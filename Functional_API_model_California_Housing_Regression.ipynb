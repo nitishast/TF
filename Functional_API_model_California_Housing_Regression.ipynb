{
  "nbformat": 4,
  "nbformat_minor": 0,
  "metadata": {
    "colab": {
      "name": "Functional API model California Housing Regression",
      "provenance": [],
      "collapsed_sections": [],
      "authorship_tag": "ABX9TyO0E3ruY9SwkL4BsF6gTyrC",
      "include_colab_link": true
    },
    "kernelspec": {
      "name": "python3",
      "display_name": "Python 3"
    },
    "accelerator": "GPU"
  },
  "cells": [
    {
      "cell_type": "markdown",
      "metadata": {
        "id": "view-in-github",
        "colab_type": "text"
      },
      "source": [
        "<a href=\"https://colab.research.google.com/github/nitishast/TF/blob/master/Functional_API_model_California_Housing_Regression.ipynb\" target=\"_parent\"><img src=\"https://colab.research.google.com/assets/colab-badge.svg\" alt=\"Open In Colab\"/></a>"
      ]
    },
    {
      "cell_type": "code",
      "metadata": {
        "id": "Ib9vB4-fGdqX",
        "colab_type": "code",
        "outputId": "a2b0b48f-b00d-4ad6-9850-7a73efd9718a",
        "colab": {
          "base_uri": "https://localhost:8080/",
          "height": 34
        }
      },
      "source": [
        "%tensorflow_version 2.x\n",
        "\n",
        "import numpy as np\n",
        "import pandas as pd\n",
        "import matplotlib as mp\n",
        "import tensorflow as tf\n",
        "from tensorflow import keras\n",
        "import scipy\n",
        "from sklearn.datasets import fetch_california_housing\n"
      ],
      "execution_count": 1,
      "outputs": [
        {
          "output_type": "stream",
          "text": [
            "TensorFlow 2.x selected.\n"
          ],
          "name": "stdout"
        }
      ]
    },
    {
      "cell_type": "code",
      "metadata": {
        "id": "ChoIiDuLGx-0",
        "colab_type": "code",
        "colab": {
          "base_uri": "https://localhost:8080/",
          "height": 34
        },
        "outputId": "7166968e-5d07-4eb3-bb1b-55a87a20ea2d"
      },
      "source": [
        "housing = fetch_california_housing()\n",
        "from sklearn.preprocessing import StandardScaler\n",
        "from sklearn.model_selection import train_test_split\n",
        "\n",
        "X_train_full,X_test,y_train_full,y_test = train_test_split(housing.data,housing.target)\n",
        "X_train,X_valid,y_train,y_valid = train_test_split(X_train_full,y_train_full)\n",
        "scaler = StandardScaler()\n",
        "X_train_scaled = scaler.fit_transform(X_train)\n",
        "X_valid_scaled = scaler.fit_transform(X_valid)\n",
        "X_test_scaled = scaler.fit_transform(X_test)\n"
      ],
      "execution_count": 2,
      "outputs": [
        {
          "output_type": "stream",
          "text": [
            "Downloading Cal. housing from https://ndownloader.figshare.com/files/5976036 to /root/scikit_learn_data\n"
          ],
          "name": "stderr"
        }
      ]
    },
    {
      "cell_type": "code",
      "metadata": {
        "id": "ewxtyPcHG6f2",
        "colab_type": "code",
        "outputId": "b5282729-fad3-49d6-eae0-b84cee6e72eb",
        "colab": {
          "base_uri": "https://localhost:8080/",
          "height": 34
        }
      },
      "source": [
        "from keras.models import Sequential\n"
      ],
      "execution_count": 3,
      "outputs": [
        {
          "output_type": "stream",
          "text": [
            "Using TensorFlow backend.\n"
          ],
          "name": "stderr"
        }
      ]
    },
    {
      "cell_type": "markdown",
      "metadata": {
        "id": "iRJLIOzEHKV3",
        "colab_type": "text"
      },
      "source": [
        "## Two type of networks Multilayer and Wide &  Deep.\n",
        "\n",
        "Lets make a wide and deep model. A wide model connects all or parts of input layer directly to output layer.\n",
        "> It makes the network to learn simple patter using wide(short path) and deep paterns using deep layers(deep path). \n",
        "\n",
        ">A simple MLP passes all the input through stack of layers henc patters can be slighlty distorted or lost in moving from input to output layers. "
      ]
    },
    {
      "cell_type": "code",
      "metadata": {
        "id": "V3aBzR_1HH-L",
        "colab_type": "code",
        "colab": {}
      },
      "source": [
        "## This is a functional API of Keras. We will call each layer with the output of previous layer.\n",
        "## Once this is has been done, model can be compiled and evaluated.\n",
        "\n",
        "input = keras.layers.Input(shape=X_train.shape[1:])#Defining an input shape. This shape can be different also if we want to train the model on a subset of dat.a\n",
        "#Input layer just accepts the input and not the data actually. \n",
        "hidden1 = keras.layers.Dense(30,activation=\"relu\")(input) # Calling the first dense layer with the input layer as a Function call hence the fuctional API.\n",
        "hidden2 = keras.layers.Dense(30,activation=\"relu\")(hidden1)# Next hidden layer accpets the output of first hidden layer.\n",
        "\n",
        "concat = keras.layers.concatenate([input,hidden2]) # Using this method we can send the input data and output of hidden layer directly to output layer.\n",
        "output = keras.layers.Dense(1)(concat)# Just using one neuron as just need one output value. No activation func as one conti variable. \n",
        "\n",
        "model = keras.models.Model(inputs=[input],outputs=[output]) # Compile this using both input and output layer\n",
        "\n"
      ],
      "execution_count": 0,
      "outputs": []
    },
    {
      "cell_type": "code",
      "metadata": {
        "id": "AeWBJ4uYEAPB",
        "colab_type": "code",
        "colab": {}
      },
      "source": [
        "model.compile(loss='mse',optimizer=\"sgd\")"
      ],
      "execution_count": 0,
      "outputs": []
    },
    {
      "cell_type": "code",
      "metadata": {
        "id": "MqAkQxzqFGts",
        "colab_type": "code",
        "colab": {
          "base_uri": "https://localhost:8080/",
          "height": 340
        },
        "outputId": "ab25c7ea-1dff-478e-b593-56a785695429"
      },
      "source": [
        "model.summary()"
      ],
      "execution_count": 20,
      "outputs": [
        {
          "output_type": "stream",
          "text": [
            "Model: \"model_2\"\n",
            "__________________________________________________________________________________________________\n",
            "Layer (type)                    Output Shape         Param #     Connected to                     \n",
            "==================================================================================================\n",
            "input_11 (InputLayer)           [(None, 8)]          0                                            \n",
            "__________________________________________________________________________________________________\n",
            "dense_27 (Dense)                (None, 30)           270         input_11[0][0]                   \n",
            "__________________________________________________________________________________________________\n",
            "dense_28 (Dense)                (None, 30)           930         dense_27[0][0]                   \n",
            "__________________________________________________________________________________________________\n",
            "concatenate_9 (Concatenate)     (None, 38)           0           input_11[0][0]                   \n",
            "                                                                 dense_28[0][0]                   \n",
            "__________________________________________________________________________________________________\n",
            "dense_29 (Dense)                (None, 1)            39          concatenate_9[0][0]              \n",
            "==================================================================================================\n",
            "Total params: 1,239\n",
            "Trainable params: 1,239\n",
            "Non-trainable params: 0\n",
            "__________________________________________________________________________________________________\n"
          ],
          "name": "stdout"
        }
      ]
    },
    {
      "cell_type": "code",
      "metadata": {
        "id": "pKocrAjzFIOj",
        "colab_type": "code",
        "colab": {
          "base_uri": "https://localhost:8080/",
          "height": 731
        },
        "outputId": "e1faa5f0-3ff9-4b2c-dba8-193c24a56d93"
      },
      "source": [
        "model.fit(X_train_scaled,y_train,epochs=20,validation_data=(X_valid,y_valid))"
      ],
      "execution_count": 22,
      "outputs": [
        {
          "output_type": "stream",
          "text": [
            "Train on 11610 samples, validate on 3870 samples\n",
            "Epoch 1/20\n",
            "11610/11610 [==============================] - 1s 86us/sample - loss: 0.4804 - val_loss: 26541.8401\n",
            "Epoch 2/20\n",
            "11610/11610 [==============================] - 1s 81us/sample - loss: 0.4726 - val_loss: 18114.5507\n",
            "Epoch 3/20\n",
            "11610/11610 [==============================] - 1s 82us/sample - loss: 1.0918 - val_loss: 2665.9787\n",
            "Epoch 4/20\n",
            "11610/11610 [==============================] - 1s 88us/sample - loss: 0.5081 - val_loss: 5493.0434\n",
            "Epoch 5/20\n",
            "11610/11610 [==============================] - 1s 85us/sample - loss: 0.5109 - val_loss: 2709.4675\n",
            "Epoch 6/20\n",
            "11610/11610 [==============================] - 1s 84us/sample - loss: 0.4173 - val_loss: 4486.4522\n",
            "Epoch 7/20\n",
            "11610/11610 [==============================] - 1s 85us/sample - loss: 1.5651 - val_loss: 4547.8192\n",
            "Epoch 8/20\n",
            "11610/11610 [==============================] - 1s 82us/sample - loss: 0.4109 - val_loss: 3575.2937\n",
            "Epoch 9/20\n",
            "11610/11610 [==============================] - 1s 89us/sample - loss: 0.3892 - val_loss: 9395.5061\n",
            "Epoch 10/20\n",
            "11610/11610 [==============================] - 1s 85us/sample - loss: 0.3922 - val_loss: 4010.3940\n",
            "Epoch 11/20\n",
            "11610/11610 [==============================] - 1s 91us/sample - loss: 0.3975 - val_loss: 3213.4617\n",
            "Epoch 12/20\n",
            "11610/11610 [==============================] - 1s 99us/sample - loss: 0.3857 - val_loss: 7027.0705\n",
            "Epoch 13/20\n",
            "11610/11610 [==============================] - 1s 84us/sample - loss: 1.1953 - val_loss: 9729.7127\n",
            "Epoch 14/20\n",
            "11610/11610 [==============================] - 1s 82us/sample - loss: 0.3955 - val_loss: 12873.6111\n",
            "Epoch 15/20\n",
            "11610/11610 [==============================] - 1s 81us/sample - loss: 0.3511 - val_loss: 5942.9072\n",
            "Epoch 16/20\n",
            "11610/11610 [==============================] - 1s 80us/sample - loss: 0.5383 - val_loss: 4280.3615\n",
            "Epoch 17/20\n",
            "11610/11610 [==============================] - 1s 83us/sample - loss: 0.3405 - val_loss: 4811.7521\n",
            "Epoch 18/20\n",
            "11610/11610 [==============================] - 1s 85us/sample - loss: 0.3527 - val_loss: 5167.6538\n",
            "Epoch 19/20\n",
            "11610/11610 [==============================] - 1s 88us/sample - loss: 0.5632 - val_loss: 8559.5690\n",
            "Epoch 20/20\n",
            "11610/11610 [==============================] - 1s 89us/sample - loss: 0.3344 - val_loss: 7076.2642\n"
          ],
          "name": "stdout"
        },
        {
          "output_type": "execute_result",
          "data": {
            "text/plain": [
              "<tensorflow.python.keras.callbacks.History at 0x7fa1802367b8>"
            ]
          },
          "metadata": {
            "tags": []
          },
          "execution_count": 22
        }
      ]
    },
    {
      "cell_type": "code",
      "metadata": {
        "id": "3V-O8ngQFauC",
        "colab_type": "code",
        "colab": {
          "base_uri": "https://localhost:8080/",
          "height": 282
        },
        "outputId": "1a5bae11-6099-4eb0-c0ea-179373d7214b"
      },
      "source": [
        "los = pd.DataFrame(model.history.history)\n",
        "los.plot()"
      ],
      "execution_count": 23,
      "outputs": [
        {
          "output_type": "execute_result",
          "data": {
            "text/plain": [
              "<matplotlib.axes._subplots.AxesSubplot at 0x7fa168535dd8>"
            ]
          },
          "metadata": {
            "tags": []
          },
          "execution_count": 23
        },
        {
          "output_type": "display_data",
          "data": {
            "image/png": "[encoded data removed]",
            "text/plain": [
              "<Figure size 432x288 with 1 Axes>"
            ]
          },
          "metadata": {
            "tags": []
          }
        }
      ]
    },
    {
      "cell_type": "code",
      "metadata": {
        "id": "6fxZlgLxFveN",
        "colab_type": "code",
        "colab": {
          "base_uri": "https://localhost:8080/",
          "height": 51
        },
        "outputId": "f29506e4-d09a-4bc1-a530-45bd6bb8f38a"
      },
      "source": [
        "model.evaluate(X_test,y_test)"
      ],
      "execution_count": 24,
      "outputs": [
        {
          "output_type": "stream",
          "text": [
            "5160/5160 [==============================] - 0s 55us/sample - loss: 7011.7443\n"
          ],
          "name": "stdout"
        },
        {
          "output_type": "execute_result",
          "data": {
            "text/plain": [
              "7011.744275375485"
            ]
          },
          "metadata": {
            "tags": []
          },
          "execution_count": 24
        }
      ]
    },
    {
      "cell_type": "code",
      "metadata": {
        "id": "UuPjVVnOF5kc",
        "colab_type": "code",
        "colab": {}
      },
      "source": [
        ""
      ],
      "execution_count": 0,
      "outputs": []
    }
  ]
}