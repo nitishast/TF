{
  "nbformat": 4,
  "nbformat_minor": 0,
  "metadata": {
    "colab": {
      "name": "empty2",
      "provenance": [],
      "authorship_tag": "ABX9TyPEvJ6Z5X3ZUxcpJBfbH2ic",
      "include_colab_link": true
    },
    "kernelspec": {
      "name": "python3",
      "display_name": "Python 3"
    }
  },
  "cells": [
    {
      "cell_type": "markdown",
      "metadata": {
        "id": "view-in-github",
        "colab_type": "text"
      },
      "source": [
        "<a href=\"https://colab.research.google.com/github/nitishast/TF/blob/master/empty2.ipynb\" target=\"_parent\"><img src=\"https://colab.research.google.com/assets/colab-badge.svg\" alt=\"Open In Colab\"/></a>"
      ]
    },
    {
      "cell_type": "code",
      "metadata": {
        "id": "SDonmY72HG0I",
        "colab_type": "code",
        "colab": {}
      },
      "source": [
        "#NLP "
      ],
      "execution_count": 0,
      "outputs": []
    },
    {
      "cell_type": "markdown",
      "metadata": {
        "id": "x8ROE6bOHRby",
        "colab_type": "text"
      },
      "source": [
        "# NLP Task of finiding similarities and differences between comedians and their standup styles."
      ]
    },
    {
      "cell_type": "code",
      "metadata": {
        "id": "kwZd-bSVHku3",
        "colab_type": "code",
        "colab": {}
      },
      "source": [
        ""
      ],
      "execution_count": 0,
      "outputs": []
    },
    {
      "cell_type": "markdown",
      "metadata": {
        "id": "Yrcq_NGBHlto",
        "colab_type": "text"
      },
      "source": [
        "## Comedians to feature: \n",
        "'louis CK', 'dave chapele', 'ricky ', 'bo', 'bill', 'jim', 'john', 'hasan', 'ali', 'anthony', 'mike', 'joe'"
      ]
    },
    {
      "cell_type": "markdown",
      "metadata": {
        "id": "eNxqRManIGSn",
        "colab_type": "text"
      },
      "source": [
        "# Task: \n",
        "> Getting the data : **Use beautiful soup and web scrapping.**\n",
        "\n",
        "> Cleaning the data: **Removing punctuations, cleaning stop words, making lower case >> Tokenisation. >> stemming, lementisation, and then bi-grams,tri-gram, part of speech tagging.**\n",
        "\n",
        "> Organising the data : **Creating a 1: Corpous**\n",
        "**2: Document-Term matrix**"
      ]
    },
    {
      "cell_type": "code",
      "metadata": {
        "id": "RTUHlskeIFsD",
        "colab_type": "code",
        "colab": {}
      },
      "source": [
        "# Lets start with getting the data by scrapping web using beautiful soup from a website which collects transcripts of the shows\n",
        "\n",
        "import pickle\n",
        "from bs4 import BeautifulSoup\n",
        "import requests"
      ],
      "execution_count": 0,
      "outputs": []
    },
    {
      "cell_type": "code",
      "metadata": {
        "id": "RdxBOp38J590",
        "colab_type": "code",
        "colab": {}
      },
      "source": [
        "# Scrapes transcript data from scrapsfromtheloft.com\n",
        "def url_to_transcripts(url):\n",
        "  '''Returns the transcript data from the URL given'''\n",
        "  page = requests.get(url).text\n",
        "  soup = BeautifulSoup(page, \"lxml\")\n",
        "  text = [p.text for p in soup.find(class_= \"post-content\").find_all('p')]\n",
        "  print (url)\n",
        "  return text\n"
      ],
      "execution_count": 0,
      "outputs": []
    },
    {
      "cell_type": "code",
      "metadata": {
        "id": "n4R_MsdtK_Yw",
        "colab_type": "code",
        "colab": {}
      },
      "source": [
        "url = ['http://scrapsfromtheloft.com/2017/05/06/louis-ck-oh-my-god-full-transcript/',\n",
        "        'http://scrapsfromtheloft.com/2017/04/11/dave-chappelle-age-spin-2017-full-transcript/',\n",
        "        'http://scrapsfromtheloft.com/2018/03/15/ricky-gervais-humanity-transcript/',\n",
        "        'http://scrapsfromtheloft.com/2017/08/07/bo-burnham-2013-full-transcript/',\n",
        "        'http://scrapsfromtheloft.com/2017/05/24/bill-burr-im-sorry-feel-way-2014-full-transcript/',\n",
        "        'http://scrapsfromtheloft.com/2017/04/21/jim-jefferies-bare-2014-full-transcript/',\n",
        "        'http://scrapsfromtheloft.com/2017/08/02/john-mulaney-comeback-kid-2015-full-transcript/',\n",
        "        'http://scrapsfromtheloft.com/2017/10/21/hasan-minhaj-homecoming-king-2017-full-transcript/',\n",
        "        'http://scrapsfromtheloft.com/2017/09/19/ali-wong-baby-cobra-2016-full-transcript/',\n",
        "        'http://scrapsfromtheloft.com/2017/08/03/anthony-jeselnik-thoughts-prayers-2015-full-transcript/',\n",
        "        'http://scrapsfromtheloft.com/2018/03/03/mike-birbiglia-my-girlfriends-boyfriend-2013-full-transcript/',\n",
        "        'http://scrapsfromtheloft.com/2017/08/19/joe-rogan-triggered-2016-full-transcript/']\n",
        "\n",
        "# Comedian names\n",
        "comedians = ['louis', 'dave', 'ricky', 'bo', 'bill', 'jim', 'john', 'hasan', 'ali', 'anthony', 'mike', 'joe']"
      ],
      "execution_count": 0,
      "outputs": []
    },
    {
      "cell_type": "code",
      "metadata": {
        "id": "C89RLC_HLH2Q",
        "colab_type": "code",
        "colab": {
          "base_uri": "https://localhost:8080/",
          "height": 221
        },
        "outputId": "31db3485-297a-46d7-f2be-8c80ec40ff15"
      },
      "source": [
        "# retriving the transcripts.\n",
        "transcripts = [url_to_transcripts(u) for u in url]"
      ],
      "execution_count": 6,
      "outputs": [
        {
          "output_type": "stream",
          "text": [
            "http://scrapsfromtheloft.com/2017/05/06/louis-ck-oh-my-god-full-transcript/\n",
            "http://scrapsfromtheloft.com/2017/04/11/dave-chappelle-age-spin-2017-full-transcript/\n",
            "http://scrapsfromtheloft.com/2018/03/15/ricky-gervais-humanity-transcript/\n",
            "http://scrapsfromtheloft.com/2017/08/07/bo-burnham-2013-full-transcript/\n",
            "http://scrapsfromtheloft.com/2017/05/24/bill-burr-im-sorry-feel-way-2014-full-transcript/\n",
            "http://scrapsfromtheloft.com/2017/04/21/jim-jefferies-bare-2014-full-transcript/\n",
            "http://scrapsfromtheloft.com/2017/08/02/john-mulaney-comeback-kid-2015-full-transcript/\n",
            "http://scrapsfromtheloft.com/2017/10/21/hasan-minhaj-homecoming-king-2017-full-transcript/\n",
            "http://scrapsfromtheloft.com/2017/09/19/ali-wong-baby-cobra-2016-full-transcript/\n",
            "http://scrapsfromtheloft.com/2017/08/03/anthony-jeselnik-thoughts-prayers-2015-full-transcript/\n",
            "http://scrapsfromtheloft.com/2018/03/03/mike-birbiglia-my-girlfriends-boyfriend-2013-full-transcript/\n",
            "http://scrapsfromtheloft.com/2017/08/19/joe-rogan-triggered-2016-full-transcript/\n"
          ],
          "name": "stdout"
        }
      ]
    },
    {
      "cell_type": "code",
      "metadata": {
        "id": "hc4Rt6D_LVWv",
        "colab_type": "code",
        "colab": {}
      },
      "source": [
        "#transcripts # contains 12 arrays of each comedian transcripts"
      ],
      "execution_count": 0,
      "outputs": []
    },
    {
      "cell_type": "code",
      "metadata": {
        "id": "InxmluFmLc6G",
        "colab_type": "code",
        "colab": {}
      },
      "source": [
        "#pickel file for later use\n",
        "!mkdir transcripts"
      ],
      "execution_count": 0,
      "outputs": []
    },
    {
      "cell_type": "code",
      "metadata": {
        "id": "PiAJViDlL_gx",
        "colab_type": "code",
        "colab": {
          "base_uri": "https://localhost:8080/",
          "height": 34
        },
        "outputId": "c31cbfc0-a50d-4440-d106-4ee791b92967"
      },
      "source": [
        "pwd"
      ],
      "execution_count": 12,
      "outputs": [
        {
          "output_type": "execute_result",
          "data": {
            "text/plain": [
              "'/content'"
            ]
          },
          "metadata": {
            "tags": []
          },
          "execution_count": 12
        }
      ]
    },
    {
      "cell_type": "code",
      "metadata": {
        "id": "oS-w0cg1MAgc",
        "colab_type": "code",
        "colab": {
          "base_uri": "https://localhost:8080/",
          "height": 68
        },
        "outputId": "5678bca9-9cd1-4fc3-ae78-da11213b197d"
      },
      "source": [
        "ls -ltr"
      ],
      "execution_count": 13,
      "outputs": [
        {
          "output_type": "stream",
          "text": [
            "total 8\n",
            "drwxr-xr-x 1 root root 4096 Feb  5 18:37 \u001b[0m\u001b[01;34msample_data\u001b[0m/\n",
            "drwxr-xr-x 2 root root 4096 Feb 28 14:25 \u001b[01;34mtranscripts\u001b[0m/\n"
          ],
          "name": "stdout"
        }
      ]
    },
    {
      "cell_type": "code",
      "metadata": {
        "id": "ofSSe27CMBQ1",
        "colab_type": "code",
        "colab": {}
      },
      "source": [
        "for i,c in enumerate(comedians):\n",
        "  with open(\"transcripts/\" + c + \".txt\", \"wb\") as file:\n",
        "    pickle.dump(transcripts[i], file)"
      ],
      "execution_count": 0,
      "outputs": []
    },
    {
      "cell_type": "code",
      "metadata": {
        "id": "cjn3L9hMMUX8",
        "colab_type": "code",
        "colab": {
          "base_uri": "https://localhost:8080/",
          "height": 34
        },
        "outputId": "cf0ea989-3ed2-42a7-ac43-dd6a74d2683d"
      },
      "source": [
        "cd transcripts/"
      ],
      "execution_count": 16,
      "outputs": [
        {
          "output_type": "stream",
          "text": [
            "/content/transcripts\n"
          ],
          "name": "stdout"
        }
      ]
    },
    {
      "cell_type": "code",
      "metadata": {
        "id": "4WuyBrlUMaaL",
        "colab_type": "code",
        "colab": {
          "base_uri": "https://localhost:8080/",
          "height": 238
        },
        "outputId": "711b581e-e6f0-4aeb-eb71-6b219016aa6c"
      },
      "source": [
        "ls -ltr"
      ],
      "execution_count": 17,
      "outputs": [
        {
          "output_type": "stream",
          "text": [
            "total 636\n",
            "-rw-r--r-- 1 root root 41269 Feb 28 14:27 louis.txt\n",
            "-rw-r--r-- 1 root root 50309 Feb 28 14:27 dave.txt\n",
            "-rw-r--r-- 1 root root 60400 Feb 28 14:27 ricky.txt\n",
            "-rw-r--r-- 1 root root 40140 Feb 28 14:27 bo.txt\n",
            "-rw-r--r-- 1 root root 67055 Feb 28 14:27 bill.txt\n",
            "-rw-r--r-- 1 root root 61600 Feb 28 14:27 jim.txt\n",
            "-rw-r--r-- 1 root root 50738 Feb 28 14:27 john.txt\n",
            "-rw-r--r-- 1 root root 59147 Feb 28 14:27 hasan.txt\n",
            "-rw-r--r-- 1 root root 40571 Feb 28 14:27 ali.txt\n",
            "-rw-r--r-- 1 root root 62275 Feb 28 14:27 mike.txt\n",
            "-rw-r--r-- 1 root root 35991 Feb 28 14:27 anthony.txt\n",
            "-rw-r--r-- 1 root root 56280 Feb 28 14:27 joe.txt\n"
          ],
          "name": "stdout"
        }
      ]
    },
    {
      "cell_type": "code",
      "metadata": {
        "id": "RzHOiso7Mbcj",
        "colab_type": "code",
        "colab": {}
      },
      "source": [
        ""
      ],
      "execution_count": 0,
      "outputs": []
    }
  ]
}