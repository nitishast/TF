{
  "nbformat": 4,
  "nbformat_minor": 0,
  "metadata": {
    "colab": {
      "name": "Image Classifier Using Sequential API MNIST",
      "provenance": [],
      "collapsed_sections": [],
      "authorship_tag": "ABX9TyNmXpmfjkY786TkeUTqiFV1",
      "include_colab_link": true
    },
    "kernelspec": {
      "name": "python3",
      "display_name": "Python 3"
    }
  },
  "cells": [
    {
      "cell_type": "markdown",
      "metadata": {
        "id": "view-in-github",
        "colab_type": "text"
      },
      "source": [
        "<a href=\"https://colab.research.google.com/github/nitishast/TF/blob/master/Image_Classifier_Using_Sequential_API_MNIST.ipynb\" target=\"_parent\"><img src=\"https://colab.research.google.com/assets/colab-badge.svg\" alt=\"Open In Colab\"/></a>"
      ]
    },
    {
      "cell_type": "code",
      "metadata": {
        "id": "12GYJ_kUT4Wk",
        "colab_type": "code",
        "colab": {}
      },
      "source": [
        "%tensorflow_version 2.x"
      ],
      "execution_count": 0,
      "outputs": []
    },
    {
      "cell_type": "code",
      "metadata": {
        "id": "zo8pgElqTed4",
        "colab_type": "code",
        "colab": {}
      },
      "source": [
        "import numpy as np\n",
        "import pandas as pd\n",
        "import matplotlib as mp\n",
        "import tensorflow as tf\n",
        "from tensorflow import keras"
      ],
      "execution_count": 0,
      "outputs": []
    },
    {
      "cell_type": "code",
      "metadata": {
        "id": "37DHEmpgTr3p",
        "colab_type": "code",
        "colab": {
          "base_uri": "https://localhost:8080/",
          "height": 34
        },
        "outputId": "e5b4f5ad-1762-42fb-c655-5ceb72b18743"
      },
      "source": [
        "keras.__version__"
      ],
      "execution_count": 30,
      "outputs": [
        {
          "output_type": "execute_result",
          "data": {
            "text/plain": [
              "'2.2.4-tf'"
            ]
          },
          "metadata": {
            "tags": []
          },
          "execution_count": 30
        }
      ]
    },
    {
      "cell_type": "markdown",
      "metadata": {
        "id": "DBwXrF3PULx4",
        "colab_type": "text"
      },
      "source": [
        "### Loading the MNIST Dataset"
      ]
    },
    {
      "cell_type": "code",
      "metadata": {
        "id": "f5SKq7rpTx5i",
        "colab_type": "code",
        "colab": {}
      },
      "source": [
        "fashion_mnist = keras.datasets.fashion_mnist"
      ],
      "execution_count": 0,
      "outputs": []
    },
    {
      "cell_type": "markdown",
      "metadata": {
        "id": "PPDTElVWUiU4",
        "colab_type": "text"
      },
      "source": [
        "### In scikit learn same image is represented as 1D array of 784 but in keras each is 28x28 array"
      ]
    },
    {
      "cell_type": "code",
      "metadata": {
        "id": "nJJT_rG5UTcm",
        "colab_type": "code",
        "colab": {}
      },
      "source": [
        "(X_train_full,y_train_full),(X_test,y_test) = fashion_mnist.load_data()"
      ],
      "execution_count": 0,
      "outputs": []
    },
    {
      "cell_type": "code",
      "metadata": {
        "id": "K8vH9U7LUeHw",
        "colab_type": "code",
        "colab": {
          "base_uri": "https://localhost:8080/",
          "height": 51
        },
        "outputId": "1b335225-ac6b-4bf2-bcda-4b5cef818d7b"
      },
      "source": [
        "print (X_train_full.shape)\n",
        "print (X_train_full.dtype)"
      ],
      "execution_count": 33,
      "outputs": [
        {
          "output_type": "stream",
          "text": [
            "(60000, 28, 28)\n",
            "uint8\n"
          ],
          "name": "stdout"
        }
      ]
    },
    {
      "cell_type": "markdown",
      "metadata": {
        "id": "tMOc8skbVBrj",
        "colab_type": "text"
      },
      "source": [
        "### Since we will optimise the network by using Gradient descent, we must scale the input feature to 0-1. Can be done by dividing by max feature 255"
      ]
    },
    {
      "cell_type": "code",
      "metadata": {
        "id": "tBGO_tmCUwjs",
        "colab_type": "code",
        "colab": {}
      },
      "source": [
        "# Creating a Validation set \n",
        "X_valid, X_train = X_train_full[:5000]/255.0 , X_train_full[5000:] / 255.0\n",
        "y_valid, y_train = y_train_full[:5000]/255.0 , y_train_full[5000:]"
      ],
      "execution_count": 0,
      "outputs": []
    },
    {
      "cell_type": "code",
      "metadata": {
        "id": "y5x6wSi5V3um",
        "colab_type": "code",
        "colab": {}
      },
      "source": [
        "class_names = [\"T-shirt/top\" , \"Trouser\" , \" Pullover\", \"Dress\" , \"Coat\" , \"Sandal\" , \"Shirt\" , \"Sneaker\" , \"Bag\" , \"Ankle boot\"]"
      ],
      "execution_count": 0,
      "outputs": []
    },
    {
      "cell_type": "code",
      "metadata": {
        "id": "pKNZseBfV6I1",
        "colab_type": "code",
        "colab": {
          "base_uri": "https://localhost:8080/",
          "height": 34
        },
        "outputId": "0f7195bc-2f83-402c-9aea-ae33b46ea2a9"
      },
      "source": [
        "class_names[y_train[0]]"
      ],
      "execution_count": 42,
      "outputs": [
        {
          "output_type": "execute_result",
          "data": {
            "text/plain": [
              "'Coat'"
            ]
          },
          "metadata": {
            "tags": []
          },
          "execution_count": 42
        }
      ]
    },
    {
      "cell_type": "markdown",
      "metadata": {
        "id": "OxR_pqVSZoUc",
        "colab_type": "text"
      },
      "source": [
        "## Building a sequential model"
      ]
    },
    {
      "cell_type": "code",
      "metadata": {
        "id": "fhIBCrdKYXLe",
        "colab_type": "code",
        "colab": {}
      },
      "source": [
        "from keras.models import Sequential\n",
        "from keras.layers import Flatten,Dense"
      ],
      "execution_count": 0,
      "outputs": []
    },
    {
      "cell_type": "code",
      "metadata": {
        "id": "oj3Ax_v8ZJwB",
        "colab_type": "code",
        "colab": {}
      },
      "source": [
        "model = keras.models.Sequential()\n",
        "#Input Layer\n",
        "model.add(keras.layers.Flatten(input_shape=[28,28]))\n",
        "#Fully connected layers -Dense\n",
        "model.add(keras.layers.Dense(300,activation=\"relu\"))\n",
        "model.add(keras.layers.Dense(100,activation=\"relu\"))\n",
        "\n",
        "#Output layer\n",
        "model.add(keras.layers.Dense(10,activation=\"softmax\"))\n",
        "\n"
      ],
      "execution_count": 0,
      "outputs": []
    },
    {
      "cell_type": "code",
      "metadata": {
        "id": "vqfp96w1adVr",
        "colab_type": "code",
        "colab": {}
      },
      "source": [
        ""
      ],
      "execution_count": 0,
      "outputs": []
    }
  ]
}