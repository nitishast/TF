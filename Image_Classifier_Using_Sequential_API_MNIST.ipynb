{
  "nbformat": 4,
  "nbformat_minor": 0,
  "metadata": {
    "colab": {
      "name": "Image Classifier Using Sequential API MNIST",
      "provenance": [],
      "collapsed_sections": [],
      "authorship_tag": "ABX9TyOz/mWcRECQlL8SsxFTzkQC",
      "include_colab_link": true
    },
    "kernelspec": {
      "name": "python3",
      "display_name": "Python 3"
    },
    "accelerator": "GPU"
  },
  "cells": [
    {
      "cell_type": "markdown",
      "metadata": {
        "id": "view-in-github",
        "colab_type": "text"
      },
      "source": [
        "<a href=\"https://colab.research.google.com/github/nitishast/TF/blob/master/Image_Classifier_Using_Sequential_API_MNIST.ipynb\" target=\"_parent\"><img src=\"https://colab.research.google.com/assets/colab-badge.svg\" alt=\"Open In Colab\"/></a>"
      ]
    },
    {
      "cell_type": "code",
      "metadata": {
        "id": "12GYJ_kUT4Wk",
        "colab_type": "code",
        "colab": {
          "base_uri": "https://localhost:8080/",
          "height": 34
        },
        "outputId": "661a786d-58b6-4220-c0db-70df6bcec44e"
      },
      "source": [
        "%tensorflow_version 2.x"
      ],
      "execution_count": 1,
      "outputs": [
        {
          "output_type": "stream",
          "text": [
            "TensorFlow 2.x selected.\n"
          ],
          "name": "stdout"
        }
      ]
    },
    {
      "cell_type": "code",
      "metadata": {
        "id": "zo8pgElqTed4",
        "colab_type": "code",
        "colab": {}
      },
      "source": [
        "import numpy as np\n",
        "import pandas as pd\n",
        "import matplotlib as mp\n",
        "import tensorflow as tf\n",
        "from tensorflow import keras"
      ],
      "execution_count": 0,
      "outputs": []
    },
    {
      "cell_type": "code",
      "metadata": {
        "id": "37DHEmpgTr3p",
        "colab_type": "code",
        "colab": {
          "base_uri": "https://localhost:8080/",
          "height": 34
        },
        "outputId": "97e584a0-9b04-4505-f4ef-f994c1bfe293"
      },
      "source": [
        "keras.__version__"
      ],
      "execution_count": 3,
      "outputs": [
        {
          "output_type": "execute_result",
          "data": {
            "text/plain": [
              "'2.2.4-tf'"
            ]
          },
          "metadata": {
            "tags": []
          },
          "execution_count": 3
        }
      ]
    },
    {
      "cell_type": "markdown",
      "metadata": {
        "id": "DBwXrF3PULx4",
        "colab_type": "text"
      },
      "source": [
        "### Loading the MNIST Dataset"
      ]
    },
    {
      "cell_type": "code",
      "metadata": {
        "id": "f5SKq7rpTx5i",
        "colab_type": "code",
        "colab": {}
      },
      "source": [
        "fashion_mnist = keras.datasets.fashion_mnist"
      ],
      "execution_count": 0,
      "outputs": []
    },
    {
      "cell_type": "markdown",
      "metadata": {
        "id": "PPDTElVWUiU4",
        "colab_type": "text"
      },
      "source": [
        "### In scikit learn same image is represented as 1D array of 784 but in keras each is 28x28 array"
      ]
    },
    {
      "cell_type": "code",
      "metadata": {
        "id": "nJJT_rG5UTcm",
        "colab_type": "code",
        "colab": {
          "base_uri": "https://localhost:8080/",
          "height": 153
        },
        "outputId": "ddb3a6e2-1624-40d2-fd3c-d5ab0a034710"
      },
      "source": [
        "(X_train_full,y_train_full),(X_test,y_test) = fashion_mnist.load_data()"
      ],
      "execution_count": 5,
      "outputs": [
        {
          "output_type": "stream",
          "text": [
            "Downloading data from https://storage.googleapis.com/tensorflow/tf-keras-datasets/train-labels-idx1-ubyte.gz\n",
            "32768/29515 [=================================] - 0s 0us/step\n",
            "Downloading data from https://storage.googleapis.com/tensorflow/tf-keras-datasets/train-images-idx3-ubyte.gz\n",
            "26427392/26421880 [==============================] - 0s 0us/step\n",
            "Downloading data from https://storage.googleapis.com/tensorflow/tf-keras-datasets/t10k-labels-idx1-ubyte.gz\n",
            "8192/5148 [===============================================] - 0s 0us/step\n",
            "Downloading data from https://storage.googleapis.com/tensorflow/tf-keras-datasets/t10k-images-idx3-ubyte.gz\n",
            "4423680/4422102 [==============================] - 0s 0us/step\n"
          ],
          "name": "stdout"
        }
      ]
    },
    {
      "cell_type": "code",
      "metadata": {
        "id": "K8vH9U7LUeHw",
        "colab_type": "code",
        "colab": {
          "base_uri": "https://localhost:8080/",
          "height": 51
        },
        "outputId": "05381c0b-20f9-467e-bc12-9923686740d4"
      },
      "source": [
        "print (X_train_full.shape)\n",
        "print (X_train_full.dtype)"
      ],
      "execution_count": 6,
      "outputs": [
        {
          "output_type": "stream",
          "text": [
            "(60000, 28, 28)\n",
            "uint8\n"
          ],
          "name": "stdout"
        }
      ]
    },
    {
      "cell_type": "markdown",
      "metadata": {
        "id": "tMOc8skbVBrj",
        "colab_type": "text"
      },
      "source": [
        "### Since we will optimise the network by using Gradient descent, we must scale the input feature to 0-1. Can be done by dividing by max feature 255"
      ]
    },
    {
      "cell_type": "code",
      "metadata": {
        "id": "tBGO_tmCUwjs",
        "colab_type": "code",
        "colab": {}
      },
      "source": [
        "# Creating a Validation set \n",
        "X_valid, X_train = X_train_full[:5000]/255.0 , X_train_full[5000:] / 255.0\n",
        "y_valid, y_train = y_train_full[:5000]/255.0 , y_train_full[5000:]"
      ],
      "execution_count": 0,
      "outputs": []
    },
    {
      "cell_type": "code",
      "metadata": {
        "id": "y5x6wSi5V3um",
        "colab_type": "code",
        "colab": {}
      },
      "source": [
        "class_names = [\"T-shirt/top\" , \"Trouser\" , \" Pullover\", \"Dress\" , \"Coat\" , \"Sandal\" , \"Shirt\" , \"Sneaker\" , \"Bag\" , \"Ankle boot\"]"
      ],
      "execution_count": 0,
      "outputs": []
    },
    {
      "cell_type": "code",
      "metadata": {
        "id": "pKNZseBfV6I1",
        "colab_type": "code",
        "colab": {
          "base_uri": "https://localhost:8080/",
          "height": 34
        },
        "outputId": "3d33d2d9-06f2-45e2-fba9-e1a5cedb9299"
      },
      "source": [
        "class_names[y_train[0]]"
      ],
      "execution_count": 9,
      "outputs": [
        {
          "output_type": "execute_result",
          "data": {
            "text/plain": [
              "'Coat'"
            ]
          },
          "metadata": {
            "tags": []
          },
          "execution_count": 9
        }
      ]
    },
    {
      "cell_type": "markdown",
      "metadata": {
        "id": "OxR_pqVSZoUc",
        "colab_type": "text"
      },
      "source": [
        "## Building a sequential model"
      ]
    },
    {
      "cell_type": "code",
      "metadata": {
        "id": "fhIBCrdKYXLe",
        "colab_type": "code",
        "colab": {
          "base_uri": "https://localhost:8080/",
          "height": 34
        },
        "outputId": "0b758d36-8e86-4d9f-d58e-d848bbef1985"
      },
      "source": [
        "from keras.models import Sequential\n",
        "from keras.layers import Flatten,Dense"
      ],
      "execution_count": 10,
      "outputs": [
        {
          "output_type": "stream",
          "text": [
            "Using TensorFlow backend.\n"
          ],
          "name": "stderr"
        }
      ]
    },
    {
      "cell_type": "markdown",
      "metadata": {
        "id": "0OIRRvVh_Hhr",
        "colab_type": "text"
      },
      "source": [
        "#### The shape of the weight matrix depends on the number of inputs.\n",
        "This is why it is recommended to specify the input_shape when\n",
        "creating the first layer in a Sequential model. However, if you do\n",
        "not specify the input shape, it’s okay: Keras will simply wait until it\n",
        "knows the input shape before it actually builds the model. This will\n",
        "happen either when you feed it actual data (e.g., during training),\n",
        "or when you call its build() method. Until the model is really\n",
        "built, the layers will not have any weights, and you will not be able\n",
        "to do certain things (such as print the model summary or save the\n",
        "model), so if you know the input shape when creating the model, it\n",
        "is best to specify it"
      ]
    },
    {
      "cell_type": "code",
      "metadata": {
        "id": "oj3Ax_v8ZJwB",
        "colab_type": "code",
        "colab": {}
      },
      "source": [
        "model = keras.models.Sequential()\n",
        "#Input Layer\n",
        "model.add(keras.layers.Flatten(input_shape=[28,28])) # Just flattens the image vector into a 1D array of 784 by computing X.reshape(-1,1)\n",
        "#Fully connected layers -Dense\n",
        "model.add(keras.layers.Dense(300,activation=\"relu\"))\n",
        "model.add(keras.layers.Dense(100,activation=\"relu\"))\n",
        "\n",
        "#Output layer\n",
        "model.add(keras.layers.Dense(10,activation=\"softmax\")) #10 neurons -- 1 neuron per class. Siince there are 10 class hence 10 neurons\n",
        "\n"
      ],
      "execution_count": 0,
      "outputs": []
    },
    {
      "cell_type": "code",
      "metadata": {
        "id": "vqfp96w1adVr",
        "colab_type": "code",
        "colab": {
          "base_uri": "https://localhost:8080/",
          "height": 289
        },
        "outputId": "4eb59cfa-2939-4e0f-892a-33a5ca9b1c5f"
      },
      "source": [
        "model.summary() ## Here None is the batch_size which it can be anything.\n",
        "## Param is the number of trainable number of parameters in the layer\n",
        "## 1st dense layer has (784[input shape]x300[neurons]) connection weights (+) 300 bias term[one bais term per neuron] == 235500\n",
        "## 2nd dense layer has (300x100) + 100 bais terms = 30100 params\n",
        "## 3rd dense layer has (100x10) + 10 bias term == 1010 params\n",
        "\n",
        "#------------>> Lots of flexibility also means higher risk of overfitting especially if training data is less."
      ],
      "execution_count": 12,
      "outputs": [
        {
          "output_type": "stream",
          "text": [
            "Model: \"sequential\"\n",
            "_________________________________________________________________\n",
            "Layer (type)                 Output Shape              Param #   \n",
            "=================================================================\n",
            "flatten (Flatten)            (None, 784)               0         \n",
            "_________________________________________________________________\n",
            "dense (Dense)                (None, 300)               235500    \n",
            "_________________________________________________________________\n",
            "dense_1 (Dense)              (None, 100)               30100     \n",
            "_________________________________________________________________\n",
            "dense_2 (Dense)              (None, 10)                1010      \n",
            "=================================================================\n",
            "Total params: 266,610\n",
            "Trainable params: 266,610\n",
            "Non-trainable params: 0\n",
            "_________________________________________________________________\n"
          ],
          "name": "stdout"
        }
      ]
    },
    {
      "cell_type": "markdown",
      "metadata": {
        "id": "OmnqIMkh98hT",
        "colab_type": "text"
      },
      "source": [
        "## Getting weights and bias for each layers"
      ]
    },
    {
      "cell_type": "code",
      "metadata": {
        "id": "1vNpTxfL7gzI",
        "colab_type": "code",
        "colab": {
          "base_uri": "https://localhost:8080/",
          "height": 34
        },
        "outputId": "d773b883-f87e-4b07-cf2b-09db9222014b"
      },
      "source": [
        "model.layers[1].name"
      ],
      "execution_count": 13,
      "outputs": [
        {
          "output_type": "execute_result",
          "data": {
            "text/plain": [
              "'dense'"
            ]
          },
          "metadata": {
            "tags": []
          },
          "execution_count": 13
        }
      ]
    },
    {
      "cell_type": "code",
      "metadata": {
        "id": "SpnrDcgI9RrY",
        "colab_type": "code",
        "colab": {}
      },
      "source": [
        "weights, bias = model.layers[1].get_weights()"
      ],
      "execution_count": 0,
      "outputs": []
    },
    {
      "cell_type": "code",
      "metadata": {
        "id": "S6m53l2E9o_2",
        "colab_type": "code",
        "colab": {
          "base_uri": "https://localhost:8080/",
          "height": 238
        },
        "outputId": "b1adad83-a2a6-44e6-f17d-f7561f3b8a41"
      },
      "source": [
        "weights\n"
      ],
      "execution_count": 15,
      "outputs": [
        {
          "output_type": "execute_result",
          "data": {
            "text/plain": [
              "array([[ 0.0282152 , -0.04315449, -0.00720893, ...,  0.01632708,\n",
              "        -0.01088278,  0.01853196],\n",
              "       [-0.00802235, -0.0508032 , -0.05854437, ...,  0.03820658,\n",
              "        -0.06983528, -0.03277129],\n",
              "       [ 0.03903367,  0.05755739, -0.05311631, ...,  0.02698725,\n",
              "         0.06070229,  0.02414948],\n",
              "       ...,\n",
              "       [-0.02486024, -0.04750348, -0.00920478, ..., -0.02345226,\n",
              "        -0.03750836,  0.06642896],\n",
              "       [-0.01798847, -0.00153072,  0.01298897, ...,  0.06312975,\n",
              "        -0.00620316,  0.01717275],\n",
              "       [ 0.01835575, -0.00866996,  0.06963141, ...,  0.0174543 ,\n",
              "        -0.07124001,  0.01627947]], dtype=float32)"
            ]
          },
          "metadata": {
            "tags": []
          },
          "execution_count": 15
        }
      ]
    },
    {
      "cell_type": "code",
      "metadata": {
        "id": "-lMNGnv396QB",
        "colab_type": "code",
        "colab": {
          "base_uri": "https://localhost:8080/",
          "height": 51
        },
        "outputId": "6fb204c4-730d-4ae9-9278-4f74fbe6c107"
      },
      "source": [
        "print (weights.shape)\n",
        "print (bias.shape)"
      ],
      "execution_count": 16,
      "outputs": [
        {
          "output_type": "stream",
          "text": [
            "(784, 300)\n",
            "(300,)\n"
          ],
          "name": "stdout"
        }
      ]
    },
    {
      "cell_type": "markdown",
      "metadata": {
        "id": "VT6PvGPt_W6f",
        "colab_type": "text"
      },
      "source": [
        "### In compile method we define the loss methods like cross-entropy for classification and MSE/Huber for regression tasks. Also we need to specify the optimizer and the metrics"
      ]
    },
    {
      "cell_type": "markdown",
      "metadata": {
        "id": "NhvVcEmXAMGz",
        "colab_type": "text"
      },
      "source": [
        "#### Loss:\n",
        "\n",
        "> Sparse crossentropy loss because we the labels to predict are sparse, and exclusive. if the labels to predict we binary categorical_crossentropy loss.\n",
        "\n",
        "Activiation:\n",
        "\n",
        "> Softmax because multiclass classification. if we were using Binary loss then sigmoid\n",
        "\n",
        "Optimizer:\n",
        "\n",
        ">Different type of optimizer can be used. SGD simply means stociastic gradient descent for backpropogation. \n",
        "\n",
        "Metric:\n",
        "\n",
        ">Accuracy as this is a classification task\n",
        "\n"
      ]
    },
    {
      "cell_type": "code",
      "metadata": {
        "id": "sdqgK40R-FLr",
        "colab_type": "code",
        "colab": {}
      },
      "source": [
        "model.compile(optimizer='sgd',\n",
        "              loss=\"sparse_categorical_crossentropy\",\n",
        "              metrics=[\"accuracy\"])"
      ],
      "execution_count": 0,
      "outputs": []
    },
    {
      "cell_type": "code",
      "metadata": {
        "id": "R0tOlkNN_4DC",
        "colab_type": "code",
        "colab": {
          "base_uri": "https://localhost:8080/",
          "height": 1000
        },
        "outputId": "ed20022c-b33c-482d-a9da-b65fc13ac251"
      },
      "source": [
        "## Epocs of 1 will not be sufficient for convergence hence use the epocs suitable.\n",
        "model.fit(X_train,y_train, epochs=30,validation_data=(X_valid,y_valid))"
      ],
      "execution_count": 18,
      "outputs": [
        {
          "output_type": "stream",
          "text": [
            "Train on 55000 samples, validate on 5000 samples\n",
            "Epoch 1/30\n",
            "55000/55000 [==============================] - 7s 125us/sample - loss: 0.7154 - accuracy: 0.7656 - val_loss: 6.1602 - val_accuracy: 0.0778\n",
            "Epoch 2/30\n",
            "55000/55000 [==============================] - 5s 91us/sample - loss: 0.4895 - accuracy: 0.8293 - val_loss: 6.7518 - val_accuracy: 0.0764\n",
            "Epoch 3/30\n",
            "55000/55000 [==============================] - 5s 91us/sample - loss: 0.4442 - accuracy: 0.8443 - val_loss: 7.1336 - val_accuracy: 0.0766\n",
            "Epoch 4/30\n",
            "55000/55000 [==============================] - 5s 92us/sample - loss: 0.4175 - accuracy: 0.8539 - val_loss: 6.8946 - val_accuracy: 0.0806\n",
            "Epoch 5/30\n",
            "55000/55000 [==============================] - 5s 93us/sample - loss: 0.3972 - accuracy: 0.8606 - val_loss: 7.3509 - val_accuracy: 0.0786\n",
            "Epoch 6/30\n",
            "55000/55000 [==============================] - 5s 96us/sample - loss: 0.3814 - accuracy: 0.8658 - val_loss: 7.7329 - val_accuracy: 0.0746\n",
            "Epoch 7/30\n",
            "55000/55000 [==============================] - 5s 91us/sample - loss: 0.3664 - accuracy: 0.8708 - val_loss: 7.7750 - val_accuracy: 0.0756\n",
            "Epoch 8/30\n",
            "55000/55000 [==============================] - 5s 90us/sample - loss: 0.3546 - accuracy: 0.8749 - val_loss: 7.5673 - val_accuracy: 0.0728\n",
            "Epoch 9/30\n",
            "55000/55000 [==============================] - 5s 90us/sample - loss: 0.3437 - accuracy: 0.8778 - val_loss: 7.7608 - val_accuracy: 0.0764\n",
            "Epoch 10/30\n",
            "55000/55000 [==============================] - 5s 90us/sample - loss: 0.3343 - accuracy: 0.8809 - val_loss: 8.1429 - val_accuracy: 0.0738\n",
            "Epoch 11/30\n",
            "55000/55000 [==============================] - 5s 91us/sample - loss: 0.3263 - accuracy: 0.8831 - val_loss: 7.9117 - val_accuracy: 0.0818\n",
            "Epoch 12/30\n",
            "55000/55000 [==============================] - 5s 95us/sample - loss: 0.3176 - accuracy: 0.8865 - val_loss: 7.9642 - val_accuracy: 0.0700\n",
            "Epoch 13/30\n",
            "55000/55000 [==============================] - 5s 94us/sample - loss: 0.3112 - accuracy: 0.8878 - val_loss: 8.1351 - val_accuracy: 0.0800\n",
            "Epoch 14/30\n",
            "55000/55000 [==============================] - 5s 93us/sample - loss: 0.3036 - accuracy: 0.8908 - val_loss: 7.9936 - val_accuracy: 0.0802\n",
            "Epoch 15/30\n",
            "55000/55000 [==============================] - 5s 91us/sample - loss: 0.2968 - accuracy: 0.8939 - val_loss: 8.5537 - val_accuracy: 0.0786\n",
            "Epoch 16/30\n",
            "55000/55000 [==============================] - 5s 89us/sample - loss: 0.2904 - accuracy: 0.8949 - val_loss: 8.3610 - val_accuracy: 0.0782\n",
            "Epoch 17/30\n",
            "55000/55000 [==============================] - 5s 92us/sample - loss: 0.2852 - accuracy: 0.8972 - val_loss: 8.7336 - val_accuracy: 0.0794\n",
            "Epoch 18/30\n",
            "55000/55000 [==============================] - 5s 90us/sample - loss: 0.2799 - accuracy: 0.8992 - val_loss: 8.1698 - val_accuracy: 0.0832\n",
            "Epoch 19/30\n",
            "55000/55000 [==============================] - 5s 96us/sample - loss: 0.2749 - accuracy: 0.9007 - val_loss: 8.7659 - val_accuracy: 0.0794\n",
            "Epoch 20/30\n",
            "55000/55000 [==============================] - 6s 104us/sample - loss: 0.2695 - accuracy: 0.9029 - val_loss: 8.6554 - val_accuracy: 0.0826\n",
            "Epoch 21/30\n",
            "55000/55000 [==============================] - 5s 98us/sample - loss: 0.2641 - accuracy: 0.9051 - val_loss: 8.7027 - val_accuracy: 0.0734\n",
            "Epoch 22/30\n",
            "55000/55000 [==============================] - 5s 95us/sample - loss: 0.2601 - accuracy: 0.9057 - val_loss: 9.0169 - val_accuracy: 0.0784\n",
            "Epoch 23/30\n",
            "55000/55000 [==============================] - 5s 92us/sample - loss: 0.2559 - accuracy: 0.9072 - val_loss: 8.7805 - val_accuracy: 0.0804\n",
            "Epoch 24/30\n",
            "55000/55000 [==============================] - 5s 96us/sample - loss: 0.2508 - accuracy: 0.9094 - val_loss: 9.2331 - val_accuracy: 0.0816\n",
            "Epoch 25/30\n",
            "55000/55000 [==============================] - 5s 90us/sample - loss: 0.2471 - accuracy: 0.9113 - val_loss: 9.2183 - val_accuracy: 0.0806\n",
            "Epoch 26/30\n",
            "55000/55000 [==============================] - 5s 88us/sample - loss: 0.2423 - accuracy: 0.9130 - val_loss: 8.9293 - val_accuracy: 0.0858\n",
            "Epoch 27/30\n",
            "55000/55000 [==============================] - 5s 88us/sample - loss: 0.2385 - accuracy: 0.9140 - val_loss: 9.6304 - val_accuracy: 0.0806\n",
            "Epoch 28/30\n",
            "55000/55000 [==============================] - 5s 91us/sample - loss: 0.2350 - accuracy: 0.9161 - val_loss: 9.7991 - val_accuracy: 0.0764\n",
            "Epoch 29/30\n",
            "55000/55000 [==============================] - 5s 90us/sample - loss: 0.2311 - accuracy: 0.9166 - val_loss: 9.6183 - val_accuracy: 0.0826\n",
            "Epoch 30/30\n",
            "55000/55000 [==============================] - 5s 92us/sample - loss: 0.2267 - accuracy: 0.9189 - val_loss: 9.7167 - val_accuracy: 0.0818\n"
          ],
          "name": "stdout"
        },
        {
          "output_type": "execute_result",
          "data": {
            "text/plain": [
              "<tensorflow.python.keras.callbacks.History at 0x7ff4f0369b70>"
            ]
          },
          "metadata": {
            "tags": []
          },
          "execution_count": 18
        }
      ]
    },
    {
      "cell_type": "code",
      "metadata": {
        "id": "s8yxzS1_B0Sc",
        "colab_type": "code",
        "colab": {}
      },
      "source": [
        ""
      ],
      "execution_count": 0,
      "outputs": []
    }
  ]
}