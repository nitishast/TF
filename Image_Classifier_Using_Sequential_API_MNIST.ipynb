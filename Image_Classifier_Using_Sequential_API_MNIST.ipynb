{
  "nbformat": 4,
  "nbformat_minor": 0,
  "metadata": {
    "colab": {
      "name": "Image Classifier Using Sequential API MNIST",
      "provenance": [],
      "collapsed_sections": [],
      "authorship_tag": "ABX9TyP96MTn0Gx9CJjwtSV9Bskt",
      "include_colab_link": true
    },
    "kernelspec": {
      "name": "python3",
      "display_name": "Python 3"
    },
    "accelerator": "GPU"
  },
  "cells": [
    {
      "cell_type": "markdown",
      "metadata": {
        "id": "view-in-github",
        "colab_type": "text"
      },
      "source": [
        "<a href=\"https://colab.research.google.com/github/nitishast/TF/blob/master/Image_Classifier_Using_Sequential_API_MNIST.ipynb\" target=\"_parent\"><img src=\"https://colab.research.google.com/assets/colab-badge.svg\" alt=\"Open In Colab\"/></a>"
      ]
    },
    {
      "cell_type": "code",
      "metadata": {
        "id": "12GYJ_kUT4Wk",
        "colab_type": "code",
        "outputId": "dd4d32f1-6136-44ef-9314-67106b41adfd",
        "colab": {
          "base_uri": "https://localhost:8080/",
          "height": 34
        }
      },
      "source": [
        "%tensorflow_version 2.x"
      ],
      "execution_count": 1,
      "outputs": [
        {
          "output_type": "stream",
          "text": [
            "TensorFlow 2.x selected.\n"
          ],
          "name": "stdout"
        }
      ]
    },
    {
      "cell_type": "code",
      "metadata": {
        "id": "zo8pgElqTed4",
        "colab_type": "code",
        "colab": {}
      },
      "source": [
        "import numpy as np\n",
        "import pandas as pd\n",
        "import matplotlib as mp\n",
        "import tensorflow as tf\n",
        "from tensorflow import keras"
      ],
      "execution_count": 0,
      "outputs": []
    },
    {
      "cell_type": "code",
      "metadata": {
        "id": "37DHEmpgTr3p",
        "colab_type": "code",
        "outputId": "93fc9f14-99de-460a-f2d1-203231611d5a",
        "colab": {
          "base_uri": "https://localhost:8080/",
          "height": 34
        }
      },
      "source": [
        "keras.__version__"
      ],
      "execution_count": 3,
      "outputs": [
        {
          "output_type": "execute_result",
          "data": {
            "text/plain": [
              "'2.2.4-tf'"
            ]
          },
          "metadata": {
            "tags": []
          },
          "execution_count": 3
        }
      ]
    },
    {
      "cell_type": "markdown",
      "metadata": {
        "id": "DBwXrF3PULx4",
        "colab_type": "text"
      },
      "source": [
        "### Loading the MNIST Dataset"
      ]
    },
    {
      "cell_type": "code",
      "metadata": {
        "id": "f5SKq7rpTx5i",
        "colab_type": "code",
        "colab": {}
      },
      "source": [
        "fashion_mnist = keras.datasets.fashion_mnist"
      ],
      "execution_count": 0,
      "outputs": []
    },
    {
      "cell_type": "markdown",
      "metadata": {
        "id": "PPDTElVWUiU4",
        "colab_type": "text"
      },
      "source": [
        "### In scikit learn same image is represented as 1D array of 784 but in keras each is 28x28 array"
      ]
    },
    {
      "cell_type": "code",
      "metadata": {
        "id": "nJJT_rG5UTcm",
        "colab_type": "code",
        "colab": {
          "base_uri": "https://localhost:8080/",
          "height": 153
        },
        "outputId": "49e8f6c0-16f0-4660-b334-dc0bdc456e44"
      },
      "source": [
        "(X_train_full,y_train_full),(X_test,y_test) = fashion_mnist.load_data()"
      ],
      "execution_count": 5,
      "outputs": [
        {
          "output_type": "stream",
          "text": [
            "Downloading data from https://storage.googleapis.com/tensorflow/tf-keras-datasets/train-labels-idx1-ubyte.gz\n",
            "32768/29515 [=================================] - 0s 0us/step\n",
            "Downloading data from https://storage.googleapis.com/tensorflow/tf-keras-datasets/train-images-idx3-ubyte.gz\n",
            "26427392/26421880 [==============================] - 0s 0us/step\n",
            "Downloading data from https://storage.googleapis.com/tensorflow/tf-keras-datasets/t10k-labels-idx1-ubyte.gz\n",
            "8192/5148 [===============================================] - 0s 0us/step\n",
            "Downloading data from https://storage.googleapis.com/tensorflow/tf-keras-datasets/t10k-images-idx3-ubyte.gz\n",
            "4423680/4422102 [==============================] - 0s 0us/step\n"
          ],
          "name": "stdout"
        }
      ]
    },
    {
      "cell_type": "code",
      "metadata": {
        "id": "K8vH9U7LUeHw",
        "colab_type": "code",
        "outputId": "824d15f9-2974-4f55-d434-0137d42c74f7",
        "colab": {
          "base_uri": "https://localhost:8080/",
          "height": 51
        }
      },
      "source": [
        "print (X_train_full.shape)\n",
        "print (X_train_full.dtype)"
      ],
      "execution_count": 6,
      "outputs": [
        {
          "output_type": "stream",
          "text": [
            "(60000, 28, 28)\n",
            "uint8\n"
          ],
          "name": "stdout"
        }
      ]
    },
    {
      "cell_type": "markdown",
      "metadata": {
        "id": "tMOc8skbVBrj",
        "colab_type": "text"
      },
      "source": [
        "### Since we will optimise the network by using Gradient descent, we must scale the input feature to 0-1. Can be done by dividing by max feature 255"
      ]
    },
    {
      "cell_type": "code",
      "metadata": {
        "id": "tBGO_tmCUwjs",
        "colab_type": "code",
        "colab": {}
      },
      "source": [
        "# Creating a Validation set \n",
        "X_valid, X_train = X_train_full[:5000]/255.0 , X_train_full[5000:] / 255.0\n",
        "y_valid, y_train = y_train_full[:5000]/255.0 , y_train_full[5000:]"
      ],
      "execution_count": 0,
      "outputs": []
    },
    {
      "cell_type": "code",
      "metadata": {
        "id": "y5x6wSi5V3um",
        "colab_type": "code",
        "colab": {}
      },
      "source": [
        "class_names = [\"T-shirt/top\" , \"Trouser\" , \" Pullover\", \"Dress\" , \"Coat\" , \"Sandal\" , \"Shirt\" , \"Sneaker\" , \"Bag\" , \"Ankle boot\"]"
      ],
      "execution_count": 0,
      "outputs": []
    },
    {
      "cell_type": "code",
      "metadata": {
        "id": "pKNZseBfV6I1",
        "colab_type": "code",
        "outputId": "ae5f2f92-6733-4186-f681-73f5720511cd",
        "colab": {
          "base_uri": "https://localhost:8080/",
          "height": 34
        }
      },
      "source": [
        "class_names[y_train[0]]"
      ],
      "execution_count": 9,
      "outputs": [
        {
          "output_type": "execute_result",
          "data": {
            "text/plain": [
              "'Coat'"
            ]
          },
          "metadata": {
            "tags": []
          },
          "execution_count": 9
        }
      ]
    },
    {
      "cell_type": "markdown",
      "metadata": {
        "id": "OxR_pqVSZoUc",
        "colab_type": "text"
      },
      "source": [
        "## Building a sequential model"
      ]
    },
    {
      "cell_type": "code",
      "metadata": {
        "id": "fhIBCrdKYXLe",
        "colab_type": "code",
        "outputId": "d24d77fa-fc94-4068-bf84-57bebed3a615",
        "colab": {
          "base_uri": "https://localhost:8080/",
          "height": 34
        }
      },
      "source": [
        "from keras.models import Sequential\n",
        "from keras.layers import Flatten,Dense"
      ],
      "execution_count": 10,
      "outputs": [
        {
          "output_type": "stream",
          "text": [
            "Using TensorFlow backend.\n"
          ],
          "name": "stderr"
        }
      ]
    },
    {
      "cell_type": "markdown",
      "metadata": {
        "id": "0OIRRvVh_Hhr",
        "colab_type": "text"
      },
      "source": [
        "#### The shape of the weight matrix depends on the number of inputs.\n",
        "This is why it is recommended to specify the input_shape when\n",
        "creating the first layer in a Sequential model. However, if you do\n",
        "not specify the input shape, it’s okay: Keras will simply wait until it\n",
        "knows the input shape before it actually builds the model. This will\n",
        "happen either when you feed it actual data (e.g., during training),\n",
        "or when you call its build() method. Until the model is really\n",
        "built, the layers will not have any weights, and you will not be able\n",
        "to do certain things (such as print the model summary or save the\n",
        "model), so if you know the input shape when creating the model, it\n",
        "is best to specify it"
      ]
    },
    {
      "cell_type": "code",
      "metadata": {
        "id": "oj3Ax_v8ZJwB",
        "colab_type": "code",
        "colab": {}
      },
      "source": [
        "model = keras.models.Sequential()\n",
        "#Input Layer\n",
        "model.add(keras.layers.Flatten(input_shape=[28,28])) # Just flattens the image vector into a 1D array of 784 by computing X.reshape(-1,1)\n",
        "#Fully connected layers -Dense\n",
        "model.add(keras.layers.Dense(300,activation=\"relu\"))\n",
        "model.add(keras.layers.Dense(100,activation=\"relu\"))\n",
        "\n",
        "#Output layer\n",
        "model.add(keras.layers.Dense(10,activation=\"softmax\")) #10 neurons -- 1 neuron per class. Siince there are 10 class hence 10 neurons\n",
        "\n"
      ],
      "execution_count": 0,
      "outputs": []
    },
    {
      "cell_type": "code",
      "metadata": {
        "id": "vqfp96w1adVr",
        "colab_type": "code",
        "outputId": "b7b30f92-a828-4317-9cf5-377a6367568b",
        "colab": {
          "base_uri": "https://localhost:8080/",
          "height": 289
        }
      },
      "source": [
        "model.summary() ## Here None is the batch_size which it can be anything.\n",
        "## Param is the number of trainable number of parameters in the layer\n",
        "## 1st dense layer has (784[input shape]x300[neurons]) connection weights (+) 300 bias term[one bais term per neuron] == 235500\n",
        "## 2nd dense layer has (300x100) + 100 bais terms = 30100 params\n",
        "## 3rd dense layer has (100x10) + 10 bias term == 1010 params\n",
        "\n",
        "#------------>> Lots of flexibility also means higher risk of overfitting especially if training data is less."
      ],
      "execution_count": 12,
      "outputs": [
        {
          "output_type": "stream",
          "text": [
            "Model: \"sequential\"\n",
            "_________________________________________________________________\n",
            "Layer (type)                 Output Shape              Param #   \n",
            "=================================================================\n",
            "flatten (Flatten)            (None, 784)               0         \n",
            "_________________________________________________________________\n",
            "dense (Dense)                (None, 300)               235500    \n",
            "_________________________________________________________________\n",
            "dense_1 (Dense)              (None, 100)               30100     \n",
            "_________________________________________________________________\n",
            "dense_2 (Dense)              (None, 10)                1010      \n",
            "=================================================================\n",
            "Total params: 266,610\n",
            "Trainable params: 266,610\n",
            "Non-trainable params: 0\n",
            "_________________________________________________________________\n"
          ],
          "name": "stdout"
        }
      ]
    },
    {
      "cell_type": "markdown",
      "metadata": {
        "id": "OmnqIMkh98hT",
        "colab_type": "text"
      },
      "source": [
        "## Getting weights and bias for each layers"
      ]
    },
    {
      "cell_type": "code",
      "metadata": {
        "id": "1vNpTxfL7gzI",
        "colab_type": "code",
        "outputId": "906627b9-dbd1-45f4-e075-4698fdceaf29",
        "colab": {
          "base_uri": "https://localhost:8080/",
          "height": 34
        }
      },
      "source": [
        "model.layers[1].name"
      ],
      "execution_count": 13,
      "outputs": [
        {
          "output_type": "execute_result",
          "data": {
            "text/plain": [
              "'dense'"
            ]
          },
          "metadata": {
            "tags": []
          },
          "execution_count": 13
        }
      ]
    },
    {
      "cell_type": "code",
      "metadata": {
        "id": "SpnrDcgI9RrY",
        "colab_type": "code",
        "colab": {}
      },
      "source": [
        "weights, bias = model.layers[1].get_weights()"
      ],
      "execution_count": 0,
      "outputs": []
    },
    {
      "cell_type": "code",
      "metadata": {
        "id": "S6m53l2E9o_2",
        "colab_type": "code",
        "outputId": "7b927013-67ec-4cfe-93c1-04bd795810a7",
        "colab": {
          "base_uri": "https://localhost:8080/",
          "height": 238
        }
      },
      "source": [
        "weights\n"
      ],
      "execution_count": 15,
      "outputs": [
        {
          "output_type": "execute_result",
          "data": {
            "text/plain": [
              "array([[ 0.00902348, -0.0585485 ,  0.0347058 , ...,  0.07062978,\n",
              "        -0.02420282, -0.01307439],\n",
              "       [-0.05897076,  0.02526692, -0.00667254, ...,  0.01378721,\n",
              "         0.03017431,  0.03690797],\n",
              "       [-0.00503176,  0.01924763, -0.05464052, ...,  0.06394519,\n",
              "        -0.06506491,  0.04878352],\n",
              "       ...,\n",
              "       [-0.039298  , -0.04664085,  0.04251132, ..., -0.06302761,\n",
              "         0.06517281, -0.03868479],\n",
              "       [-0.04728676, -0.01263224, -0.06519305, ..., -0.01685577,\n",
              "        -0.00062519, -0.02149972],\n",
              "       [ 0.03839463,  0.0475998 , -0.0159074 , ...,  0.0359895 ,\n",
              "        -0.07098503,  0.05277206]], dtype=float32)"
            ]
          },
          "metadata": {
            "tags": []
          },
          "execution_count": 15
        }
      ]
    },
    {
      "cell_type": "code",
      "metadata": {
        "id": "-lMNGnv396QB",
        "colab_type": "code",
        "outputId": "0aa62d40-ae2c-4741-a3ee-91405162318b",
        "colab": {
          "base_uri": "https://localhost:8080/",
          "height": 51
        }
      },
      "source": [
        "print (weights.shape)\n",
        "print (bias.shape)"
      ],
      "execution_count": 16,
      "outputs": [
        {
          "output_type": "stream",
          "text": [
            "(784, 300)\n",
            "(300,)\n"
          ],
          "name": "stdout"
        }
      ]
    },
    {
      "cell_type": "markdown",
      "metadata": {
        "id": "VT6PvGPt_W6f",
        "colab_type": "text"
      },
      "source": [
        "### In compile method we define the loss methods like cross-entropy for classification and MSE/Huber for regression tasks. Also we need to specify the optimizer and the metrics"
      ]
    },
    {
      "cell_type": "markdown",
      "metadata": {
        "id": "NhvVcEmXAMGz",
        "colab_type": "text"
      },
      "source": [
        "#### Loss:\n",
        "\n",
        "> Sparse crossentropy loss because we the labels to predict are sparse, and exclusive. if the labels to predict we binary categorical_crossentropy loss.\n",
        "\n",
        "Activiation:\n",
        "\n",
        "> Softmax because multiclass classification. if we were using Binary loss then sigmoid\n",
        "\n",
        "Optimizer:\n",
        "\n",
        ">Different type of optimizer can be used. SGD simply means stociastic gradient descent for backpropogation. \n",
        "\n",
        "Metric:\n",
        "\n",
        ">Accuracy as this is a classification task\n",
        "\n"
      ]
    },
    {
      "cell_type": "code",
      "metadata": {
        "id": "sdqgK40R-FLr",
        "colab_type": "code",
        "colab": {}
      },
      "source": [
        "model.compile(optimizer=\"sgd\",\n",
        "              loss=\"sparse_categorical_crossentropy\",\n",
        "              metrics=[\"accuracy\"])"
      ],
      "execution_count": 0,
      "outputs": []
    },
    {
      "cell_type": "code",
      "metadata": {
        "id": "R0tOlkNN_4DC",
        "colab_type": "code",
        "outputId": "aaf3e87c-947d-46de-eb13-be3744835e04",
        "colab": {
          "base_uri": "https://localhost:8080/",
          "height": 391
        }
      },
      "source": [
        "## Epocs of 1 will not be sufficient for convergence hence use the epocs suitable.\n",
        "model.fit(X_train,y_train, epochs=10,validation_data=(X_valid,y_valid))"
      ],
      "execution_count": 28,
      "outputs": [
        {
          "output_type": "stream",
          "text": [
            "Train on 55000 samples, validate on 5000 samples\n",
            "Epoch 1/10\n",
            "55000/55000 [==============================] - 5s 96us/sample - loss: 0.3550 - accuracy: 0.8709 - val_loss: 9.3503 - val_accuracy: 0.0778\n",
            "Epoch 2/10\n",
            "55000/55000 [==============================] - 5s 90us/sample - loss: 0.3176 - accuracy: 0.8828 - val_loss: 10.0900 - val_accuracy: 0.0608\n",
            "Epoch 3/10\n",
            "55000/55000 [==============================] - 5s 93us/sample - loss: 0.2974 - accuracy: 0.8892 - val_loss: 10.2061 - val_accuracy: 0.0836\n",
            "Epoch 4/10\n",
            "55000/55000 [==============================] - 5s 92us/sample - loss: 0.2786 - accuracy: 0.8963 - val_loss: 10.8811 - val_accuracy: 0.0832\n",
            "Epoch 5/10\n",
            "55000/55000 [==============================] - 5s 90us/sample - loss: 0.2640 - accuracy: 0.9016 - val_loss: 11.2927 - val_accuracy: 0.0782\n",
            "Epoch 6/10\n",
            "55000/55000 [==============================] - 5s 87us/sample - loss: 0.2523 - accuracy: 0.9048 - val_loss: 13.1679 - val_accuracy: 0.0688\n",
            "Epoch 7/10\n",
            "55000/55000 [==============================] - 5s 94us/sample - loss: 0.2423 - accuracy: 0.9089 - val_loss: 13.7820 - val_accuracy: 0.0832\n",
            "Epoch 8/10\n",
            "55000/55000 [==============================] - 5s 92us/sample - loss: 0.2338 - accuracy: 0.9129 - val_loss: 12.8711 - val_accuracy: 0.0776\n",
            "Epoch 9/10\n",
            "55000/55000 [==============================] - 5s 90us/sample - loss: 0.2234 - accuracy: 0.9157 - val_loss: 15.0572 - val_accuracy: 0.0792\n",
            "Epoch 10/10\n",
            "55000/55000 [==============================] - 5s 93us/sample - loss: 0.2179 - accuracy: 0.9181 - val_loss: 18.0155 - val_accuracy: 0.0666\n"
          ],
          "name": "stdout"
        },
        {
          "output_type": "execute_result",
          "data": {
            "text/plain": [
              "<tensorflow.python.keras.callbacks.History at 0x7f36f0102b38>"
            ]
          },
          "metadata": {
            "tags": []
          },
          "execution_count": 28
        }
      ]
    },
    {
      "cell_type": "code",
      "metadata": {
        "id": "s8yxzS1_B0Sc",
        "colab_type": "code",
        "outputId": "7ecdd758-8e38-4b53-b639-ced15247b6e7",
        "colab": {
          "base_uri": "https://localhost:8080/",
          "height": 204
        }
      },
      "source": [
        "acc = pd.DataFrame(model.history.history)\n",
        "acc.head()"
      ],
      "execution_count": 29,
      "outputs": [
        {
          "output_type": "execute_result",
          "data": {
            "text/html": [
              "<div>\n",
              "<style scoped>\n",
              "    .dataframe tbody tr th:only-of-type {\n",
              "        vertical-align: middle;\n",
              "    }\n",
              "\n",
              "    .dataframe tbody tr th {\n",
              "        vertical-align: top;\n",
              "    }\n",
              "\n",
              "    .dataframe thead th {\n",
              "        text-align: right;\n",
              "    }\n",
              "</style>\n",
              "<table border=\"1\" class=\"dataframe\">\n",
              "  <thead>\n",
              "    <tr style=\"text-align: right;\">\n",
              "      <th></th>\n",
              "      <th>loss</th>\n",
              "      <th>accuracy</th>\n",
              "      <th>val_loss</th>\n",
              "      <th>val_accuracy</th>\n",
              "    </tr>\n",
              "  </thead>\n",
              "  <tbody>\n",
              "    <tr>\n",
              "      <th>0</th>\n",
              "      <td>0.354985</td>\n",
              "      <td>0.870945</td>\n",
              "      <td>9.350278</td>\n",
              "      <td>0.0778</td>\n",
              "    </tr>\n",
              "    <tr>\n",
              "      <th>1</th>\n",
              "      <td>0.317596</td>\n",
              "      <td>0.882782</td>\n",
              "      <td>10.089960</td>\n",
              "      <td>0.0608</td>\n",
              "    </tr>\n",
              "    <tr>\n",
              "      <th>2</th>\n",
              "      <td>0.297392</td>\n",
              "      <td>0.889200</td>\n",
              "      <td>10.206111</td>\n",
              "      <td>0.0836</td>\n",
              "    </tr>\n",
              "    <tr>\n",
              "      <th>3</th>\n",
              "      <td>0.278604</td>\n",
              "      <td>0.896309</td>\n",
              "      <td>10.881144</td>\n",
              "      <td>0.0832</td>\n",
              "    </tr>\n",
              "    <tr>\n",
              "      <th>4</th>\n",
              "      <td>0.264023</td>\n",
              "      <td>0.901636</td>\n",
              "      <td>11.292747</td>\n",
              "      <td>0.0782</td>\n",
              "    </tr>\n",
              "  </tbody>\n",
              "</table>\n",
              "</div>"
            ],
            "text/plain": [
              "       loss  accuracy   val_loss  val_accuracy\n",
              "0  0.354985  0.870945   9.350278        0.0778\n",
              "1  0.317596  0.882782  10.089960        0.0608\n",
              "2  0.297392  0.889200  10.206111        0.0836\n",
              "3  0.278604  0.896309  10.881144        0.0832\n",
              "4  0.264023  0.901636  11.292747        0.0782"
            ]
          },
          "metadata": {
            "tags": []
          },
          "execution_count": 29
        }
      ]
    },
    {
      "cell_type": "code",
      "metadata": {
        "id": "6OVhIrKUQzjP",
        "colab_type": "code",
        "colab": {}
      },
      "source": [
        "import matplotlib.pyplot as plt\n"
      ],
      "execution_count": 0,
      "outputs": []
    },
    {
      "cell_type": "code",
      "metadata": {
        "id": "z27psacXMQSM",
        "colab_type": "code",
        "colab": {
          "base_uri": "https://localhost:8080/",
          "height": 324
        },
        "outputId": "220cfa72-217e-4fa0-dcb3-39a8cf14b6fe"
      },
      "source": [
        "acc.plot(figsize=(8,5))\n",
        "plt.grid(True)\n",
        "plt.gca().set_ylim(0,1)\n",
        "plt.show()"
      ],
      "execution_count": 31,
      "outputs": [
        {
          "output_type": "display_data",
          "data": {
            "image/png": "[encoded data removed]",
            "text/plain": [
              "<Figure size 576x360 with 1 Axes>"
            ]
          },
          "metadata": {
            "tags": []
          }
        }
      ]
    },
    {
      "cell_type": "code",
      "metadata": {
        "id": "GJckqI0JQkYr",
        "colab_type": "code",
        "colab": {}
      },
      "source": [
        "X_new = X_test[:10]\n",
        "\n",
        "y_prob = model.predict(X_new)"
      ],
      "execution_count": 0,
      "outputs": []
    },
    {
      "cell_type": "code",
      "metadata": {
        "id": "RBHdW6reRwwe",
        "colab_type": "code",
        "colab": {
          "base_uri": "https://localhost:8080/",
          "height": 204
        },
        "outputId": "e5914382-b699-4051-9ffe-b315d450fe8f"
      },
      "source": [
        "y_prob.round(2)"
      ],
      "execution_count": 39,
      "outputs": [
        {
          "output_type": "execute_result",
          "data": {
            "text/plain": [
              "array([[0.  , 0.  , 0.  , 0.  , 0.  , 0.  , 0.  , 0.  , 0.  , 1.  ],\n",
              "       [0.  , 0.  , 1.  , 0.  , 0.  , 0.  , 0.  , 0.  , 0.  , 0.  ],\n",
              "       [0.  , 1.  , 0.  , 0.  , 0.  , 0.  , 0.  , 0.  , 0.  , 0.  ],\n",
              "       [0.  , 1.  , 0.  , 0.  , 0.  , 0.  , 0.  , 0.  , 0.  , 0.  ],\n",
              "       [1.  , 0.  , 0.  , 0.  , 0.  , 0.  , 0.  , 0.  , 0.  , 0.  ],\n",
              "       [0.  , 1.  , 0.  , 0.  , 0.  , 0.  , 0.  , 0.  , 0.  , 0.  ],\n",
              "       [0.  , 0.  , 0.  , 0.  , 1.  , 0.  , 0.  , 0.  , 0.  , 0.  ],\n",
              "       [0.  , 0.  , 0.  , 0.  , 0.71, 0.  , 0.29, 0.  , 0.  , 0.  ],\n",
              "       [0.  , 0.  , 0.  , 0.  , 0.  , 1.  , 0.  , 0.  , 0.  , 0.  ],\n",
              "       [0.  , 0.  , 0.  , 0.  , 0.  , 0.  , 0.  , 1.  , 0.  , 0.  ]],\n",
              "      dtype=float32)"
            ]
          },
          "metadata": {
            "tags": []
          },
          "execution_count": 39
        }
      ]
    },
    {
      "cell_type": "code",
      "metadata": {
        "id": "353rQeXuRyFn",
        "colab_type": "code",
        "colab": {
          "base_uri": "https://localhost:8080/",
          "height": 34
        },
        "outputId": "bc08bdcc-4dd5-4457-c203-9527d38fb851"
      },
      "source": [
        "## Directly predicting classes of the set\n",
        "\n",
        "y_pred_class = model.predict_classes(X_new)\n",
        "y_pred_class\n"
      ],
      "execution_count": 40,
      "outputs": [
        {
          "output_type": "execute_result",
          "data": {
            "text/plain": [
              "array([9, 2, 1, 1, 0, 1, 4, 4, 5, 7])"
            ]
          },
          "metadata": {
            "tags": []
          },
          "execution_count": 40
        }
      ]
    },
    {
      "cell_type": "code",
      "metadata": {
        "id": "yeedPnUkSMaN",
        "colab_type": "code",
        "colab": {
          "base_uri": "https://localhost:8080/",
          "height": 51
        },
        "outputId": "721c29b3-8ea9-46c3-ed63-efa72178e612"
      },
      "source": [
        "np.array(class_names)[y_pred_class]"
      ],
      "execution_count": 41,
      "outputs": [
        {
          "output_type": "execute_result",
          "data": {
            "text/plain": [
              "array(['Ankle boot', ' Pullover', 'Trouser', 'Trouser', 'T-shirt/top',\n",
              "       'Trouser', 'Coat', 'Coat', 'Sandal', 'Sneaker'], dtype='<U11')"
            ]
          },
          "metadata": {
            "tags": []
          },
          "execution_count": 41
        }
      ]
    },
    {
      "cell_type": "code",
      "metadata": {
        "id": "8qIG3sAySUwA",
        "colab_type": "code",
        "colab": {
          "base_uri": "https://localhost:8080/",
          "height": 51
        },
        "outputId": "d5e9daba-1df0-4bcc-a5d4-0dd3e73c3746"
      },
      "source": [
        "model.evaluate(X_test,y_test)"
      ],
      "execution_count": 42,
      "outputs": [
        {
          "output_type": "stream",
          "text": [
            "10000/10000 [==============================] - 1s 67us/sample - loss: 82.2718 - accuracy: 0.8306\n"
          ],
          "name": "stdout"
        },
        {
          "output_type": "execute_result",
          "data": {
            "text/plain": [
              "[82.27183650671185, 0.8306]"
            ]
          },
          "metadata": {
            "tags": []
          },
          "execution_count": 42
        }
      ]
    },
    {
      "cell_type": "code",
      "metadata": {
        "id": "IkJQWXiFSp7x",
        "colab_type": "code",
        "colab": {}
      },
      "source": [
        "# This means that model is 83% accurate when predictiin on test set."
      ],
      "execution_count": 0,
      "outputs": []
    },
    {
      "cell_type": "code",
      "metadata": {
        "id": "SgPROQi2S1ZW",
        "colab_type": "code",
        "colab": {}
      },
      "source": [
        ""
      ],
      "execution_count": 0,
      "outputs": []
    }
  ]
}