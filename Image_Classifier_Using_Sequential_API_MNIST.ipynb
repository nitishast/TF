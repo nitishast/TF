{
  "nbformat": 4,
  "nbformat_minor": 0,
  "metadata": {
    "colab": {
      "name": "Image Classifier Using Sequential API MNIST",
      "provenance": [],
      "collapsed_sections": [],
      "authorship_tag": "ABX9TyOL5hbmlkDBQSyWxMQGqcEq",
      "include_colab_link": true
    },
    "kernelspec": {
      "name": "python3",
      "display_name": "Python 3"
    }
  },
  "cells": [
    {
      "cell_type": "markdown",
      "metadata": {
        "id": "view-in-github",
        "colab_type": "text"
      },
      "source": [
        "<a href=\"https://colab.research.google.com/github/nitishast/TF/blob/master/Image_Classifier_Using_Sequential_API_MNIST.ipynb\" target=\"_parent\"><img src=\"https://colab.research.google.com/assets/colab-badge.svg\" alt=\"Open In Colab\"/></a>"
      ]
    },
    {
      "cell_type": "code",
      "metadata": {
        "id": "12GYJ_kUT4Wk",
        "colab_type": "code",
        "colab": {
          "base_uri": "https://localhost:8080/",
          "height": 34
        },
        "outputId": "e442943d-4d18-412b-ce12-d29b7deb04d1"
      },
      "source": [
        "%tensorflow_version 2.x"
      ],
      "execution_count": 1,
      "outputs": [
        {
          "output_type": "stream",
          "text": [
            "TensorFlow 2.x selected.\n"
          ],
          "name": "stdout"
        }
      ]
    },
    {
      "cell_type": "code",
      "metadata": {
        "id": "zo8pgElqTed4",
        "colab_type": "code",
        "colab": {}
      },
      "source": [
        "import numpy as np\n",
        "import pandas as pd\n",
        "import matplotlib as mp\n",
        "import tensorflow as tf\n",
        "from tensorflow import keras"
      ],
      "execution_count": 0,
      "outputs": []
    },
    {
      "cell_type": "code",
      "metadata": {
        "id": "37DHEmpgTr3p",
        "colab_type": "code",
        "colab": {
          "base_uri": "https://localhost:8080/",
          "height": 34
        },
        "outputId": "d7f64b7a-d05b-418f-da3e-cc48193c13ee"
      },
      "source": [
        "keras.__version__"
      ],
      "execution_count": 3,
      "outputs": [
        {
          "output_type": "execute_result",
          "data": {
            "text/plain": [
              "'2.2.4-tf'"
            ]
          },
          "metadata": {
            "tags": []
          },
          "execution_count": 3
        }
      ]
    },
    {
      "cell_type": "markdown",
      "metadata": {
        "id": "DBwXrF3PULx4",
        "colab_type": "text"
      },
      "source": [
        "### Loading the MNIST Dataset"
      ]
    },
    {
      "cell_type": "code",
      "metadata": {
        "id": "f5SKq7rpTx5i",
        "colab_type": "code",
        "colab": {}
      },
      "source": [
        "fashion_mnist = keras.datasets.fashion_mnist"
      ],
      "execution_count": 0,
      "outputs": []
    },
    {
      "cell_type": "markdown",
      "metadata": {
        "id": "PPDTElVWUiU4",
        "colab_type": "text"
      },
      "source": [
        "### In scikit learn same image is represented as 1D array of 784 but in keras each is 28x28 array"
      ]
    },
    {
      "cell_type": "code",
      "metadata": {
        "id": "nJJT_rG5UTcm",
        "colab_type": "code",
        "colab": {
          "base_uri": "https://localhost:8080/",
          "height": 153
        },
        "outputId": "998ea621-ae48-43c1-b571-3edff41503dd"
      },
      "source": [
        "(X_train_full,y_train_full),(X_test,y_test) = fashion_mnist.load_data()"
      ],
      "execution_count": 5,
      "outputs": [
        {
          "output_type": "stream",
          "text": [
            "Downloading data from https://storage.googleapis.com/tensorflow/tf-keras-datasets/train-labels-idx1-ubyte.gz\n",
            "32768/29515 [=================================] - 0s 0us/step\n",
            "Downloading data from https://storage.googleapis.com/tensorflow/tf-keras-datasets/train-images-idx3-ubyte.gz\n",
            "26427392/26421880 [==============================] - 0s 0us/step\n",
            "Downloading data from https://storage.googleapis.com/tensorflow/tf-keras-datasets/t10k-labels-idx1-ubyte.gz\n",
            "8192/5148 [===============================================] - 0s 0us/step\n",
            "Downloading data from https://storage.googleapis.com/tensorflow/tf-keras-datasets/t10k-images-idx3-ubyte.gz\n",
            "4423680/4422102 [==============================] - 0s 0us/step\n"
          ],
          "name": "stdout"
        }
      ]
    },
    {
      "cell_type": "code",
      "metadata": {
        "id": "K8vH9U7LUeHw",
        "colab_type": "code",
        "colab": {
          "base_uri": "https://localhost:8080/",
          "height": 51
        },
        "outputId": "f774c29d-a2a6-4501-f3ad-f27d0dd2fcac"
      },
      "source": [
        "print (X_train_full.shape)\n",
        "print (X_train_full.dtype)"
      ],
      "execution_count": 6,
      "outputs": [
        {
          "output_type": "stream",
          "text": [
            "(60000, 28, 28)\n",
            "uint8\n"
          ],
          "name": "stdout"
        }
      ]
    },
    {
      "cell_type": "markdown",
      "metadata": {
        "id": "tMOc8skbVBrj",
        "colab_type": "text"
      },
      "source": [
        "### Since we will optimise the network by using Gradient descent, we must scale the input feature to 0-1. Can be done by dividing by max feature 255"
      ]
    },
    {
      "cell_type": "code",
      "metadata": {
        "id": "tBGO_tmCUwjs",
        "colab_type": "code",
        "colab": {}
      },
      "source": [
        "# Creating a Validation set \n",
        "X_valid, X_train = X_train_full[:5000]/255.0 , X_train_full[5000:] / 255.0\n",
        "y_valid, y_train = y_train_full[:5000]/255.0 , y_train_full[5000:]"
      ],
      "execution_count": 0,
      "outputs": []
    },
    {
      "cell_type": "code",
      "metadata": {
        "id": "y5x6wSi5V3um",
        "colab_type": "code",
        "colab": {}
      },
      "source": [
        "class_names = [\"T-shirt/top\" , \"Trouser\" , \" Pullover\", \"Dress\" , \"Coat\" , \"Sandal\" , \"Shirt\" , \"Sneaker\" , \"Bag\" , \"Ankle boot\"]"
      ],
      "execution_count": 0,
      "outputs": []
    },
    {
      "cell_type": "code",
      "metadata": {
        "id": "pKNZseBfV6I1",
        "colab_type": "code",
        "colab": {
          "base_uri": "https://localhost:8080/",
          "height": 34
        },
        "outputId": "60dd1516-786e-4793-a4fc-ea725b6bbf08"
      },
      "source": [
        "class_names[y_train[0]]"
      ],
      "execution_count": 9,
      "outputs": [
        {
          "output_type": "execute_result",
          "data": {
            "text/plain": [
              "'Coat'"
            ]
          },
          "metadata": {
            "tags": []
          },
          "execution_count": 9
        }
      ]
    },
    {
      "cell_type": "markdown",
      "metadata": {
        "id": "OxR_pqVSZoUc",
        "colab_type": "text"
      },
      "source": [
        "## Building a sequential model"
      ]
    },
    {
      "cell_type": "code",
      "metadata": {
        "id": "fhIBCrdKYXLe",
        "colab_type": "code",
        "colab": {
          "base_uri": "https://localhost:8080/",
          "height": 34
        },
        "outputId": "e852bcf8-d57b-4f76-ad50-050be49931de"
      },
      "source": [
        "from keras.models import Sequential\n",
        "from keras.layers import Flatten,Dense"
      ],
      "execution_count": 10,
      "outputs": [
        {
          "output_type": "stream",
          "text": [
            "Using TensorFlow backend.\n"
          ],
          "name": "stderr"
        }
      ]
    },
    {
      "cell_type": "code",
      "metadata": {
        "id": "oj3Ax_v8ZJwB",
        "colab_type": "code",
        "colab": {}
      },
      "source": [
        "model = keras.models.Sequential()\n",
        "#Input Layer\n",
        "model.add(keras.layers.Flatten(input_shape=[28,28])) # Just flattens the image vector into a 1D array of 784 by computing X.reshape(-1,1)\n",
        "#Fully connected layers -Dense\n",
        "model.add(keras.layers.Dense(300,activation=\"relu\"))\n",
        "model.add(keras.layers.Dense(100,activation=\"relu\"))\n",
        "\n",
        "#Output layer\n",
        "model.add(keras.layers.Dense(10,activation=\"softmax\")) #10 neurons -- 1 neuron per class. Siince there are 10 class hence 10 neurons\n",
        "\n"
      ],
      "execution_count": 0,
      "outputs": []
    },
    {
      "cell_type": "code",
      "metadata": {
        "id": "vqfp96w1adVr",
        "colab_type": "code",
        "colab": {
          "base_uri": "https://localhost:8080/",
          "height": 289
        },
        "outputId": "98a6254a-32d3-438a-a9d0-6283ad6abcd7"
      },
      "source": [
        "model.summary() ## Here None is the batch_size which it can be anything.\n",
        "## Param is the number of trainable number of parameters in the layer\n",
        "## 1st dense layer has (784[input shape]x300[neurons]) connection weights (+) 300 bias term[one bais term per neuron] == 235500\n",
        "## 2nd dense layer has (300x100) + 100 bais terms = 30100 params\n",
        "## 3rd dense layer has (100x10) + 10 bias term == 1010 params\n",
        "\n",
        "#------------>> Lots of flexibility also means higher risk of overfitting especially if training data is less."
      ],
      "execution_count": 16,
      "outputs": [
        {
          "output_type": "stream",
          "text": [
            "Model: \"sequential_1\"\n",
            "_________________________________________________________________\n",
            "Layer (type)                 Output Shape              Param #   \n",
            "=================================================================\n",
            "flatten_1 (Flatten)          (None, 784)               0         \n",
            "_________________________________________________________________\n",
            "dense_3 (Dense)              (None, 300)               235500    \n",
            "_________________________________________________________________\n",
            "dense_4 (Dense)              (None, 100)               30100     \n",
            "_________________________________________________________________\n",
            "dense_5 (Dense)              (None, 10)                1010      \n",
            "=================================================================\n",
            "Total params: 266,610\n",
            "Trainable params: 266,610\n",
            "Non-trainable params: 0\n",
            "_________________________________________________________________\n"
          ],
          "name": "stdout"
        }
      ]
    },
    {
      "cell_type": "markdown",
      "metadata": {
        "id": "OmnqIMkh98hT",
        "colab_type": "text"
      },
      "source": [
        "## Getting weights and bias for each layers"
      ]
    },
    {
      "cell_type": "code",
      "metadata": {
        "id": "1vNpTxfL7gzI",
        "colab_type": "code",
        "colab": {
          "base_uri": "https://localhost:8080/",
          "height": 34
        },
        "outputId": "aad12ead-6977-44f5-f9ba-930353427c54"
      },
      "source": [
        "model.layers[1].name"
      ],
      "execution_count": 20,
      "outputs": [
        {
          "output_type": "execute_result",
          "data": {
            "text/plain": [
              "'dense_3'"
            ]
          },
          "metadata": {
            "tags": []
          },
          "execution_count": 20
        }
      ]
    },
    {
      "cell_type": "code",
      "metadata": {
        "id": "SpnrDcgI9RrY",
        "colab_type": "code",
        "colab": {}
      },
      "source": [
        "weights, bias = model.layers[1].get_weights()"
      ],
      "execution_count": 0,
      "outputs": []
    },
    {
      "cell_type": "code",
      "metadata": {
        "id": "S6m53l2E9o_2",
        "colab_type": "code",
        "colab": {
          "base_uri": "https://localhost:8080/",
          "height": 238
        },
        "outputId": "dfaf8aad-05c7-4071-ef81-8dfd2fbc41da"
      },
      "source": [
        "weights\n"
      ],
      "execution_count": 24,
      "outputs": [
        {
          "output_type": "execute_result",
          "data": {
            "text/plain": [
              "array([[-0.00032462, -0.05014789, -0.03805866, ...,  0.06256412,\n",
              "        -0.03223342, -0.07043195],\n",
              "       [ 0.00617788, -0.01429263, -0.0530792 , ..., -0.02891857,\n",
              "         0.0670913 , -0.01552656],\n",
              "       [ 0.02395515,  0.01778349,  0.00613006, ...,  0.02924252,\n",
              "        -0.02180346, -0.06468298],\n",
              "       ...,\n",
              "       [-0.06971995, -0.06516946, -0.05759158, ..., -0.00375984,\n",
              "         0.00986748,  0.06862882],\n",
              "       [ 0.02191491,  0.02253041, -0.05237561, ...,  0.07290727,\n",
              "         0.00526883, -0.06095576],\n",
              "       [ 0.00626485,  0.0047878 , -0.06112505, ..., -0.04260783,\n",
              "         0.00981428, -0.05832306]], dtype=float32)"
            ]
          },
          "metadata": {
            "tags": []
          },
          "execution_count": 24
        }
      ]
    },
    {
      "cell_type": "code",
      "metadata": {
        "id": "-lMNGnv396QB",
        "colab_type": "code",
        "colab": {
          "base_uri": "https://localhost:8080/",
          "height": 51
        },
        "outputId": "7ee790ae-1492-46cd-f020-e2a8bcc3fc1d"
      },
      "source": [
        "print (weights.shape)\n",
        "print (bias.shape)"
      ],
      "execution_count": 27,
      "outputs": [
        {
          "output_type": "stream",
          "text": [
            "(784, 300)\n",
            "(300,)\n"
          ],
          "name": "stdout"
        }
      ]
    },
    {
      "cell_type": "code",
      "metadata": {
        "id": "sdqgK40R-FLr",
        "colab_type": "code",
        "colab": {}
      },
      "source": [
        ""
      ],
      "execution_count": 0,
      "outputs": []
    }
  ]
}