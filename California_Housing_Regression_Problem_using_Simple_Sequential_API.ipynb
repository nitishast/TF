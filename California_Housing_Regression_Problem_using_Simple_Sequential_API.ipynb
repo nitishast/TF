{
  "nbformat": 4,
  "nbformat_minor": 0,
  "metadata": {
    "colab": {
      "name": "California Housing Regression Problem using Simple Sequential API",
      "provenance": [],
      "collapsed_sections": [],
      "authorship_tag": "ABX9TyN6+B4YhJ3zNSWqIxnf2u5V",
      "include_colab_link": true
    },
    "kernelspec": {
      "name": "python3",
      "display_name": "Python 3"
    },
    "accelerator": "GPU"
  },
  "cells": [
    {
      "cell_type": "markdown",
      "metadata": {
        "id": "view-in-github",
        "colab_type": "text"
      },
      "source": [
        "<a href=\"https://colab.research.google.com/github/nitishast/TF/blob/master/California_Housing_Regression_Problem_using_Simple_Sequential_API.ipynb\" target=\"_parent\"><img src=\"https://colab.research.google.com/assets/colab-badge.svg\" alt=\"Open In Colab\"/></a>"
      ]
    },
    {
      "cell_type": "code",
      "metadata": {
        "id": "hA5zrKPoTZ8H",
        "colab_type": "code",
        "outputId": "163b9eff-1ab9-4056-be15-eb7ea96defd9",
        "colab": {
          "base_uri": "https://localhost:8080/",
          "height": 34
        }
      },
      "source": [
        "%tensorflow_version 2.x\n"
      ],
      "execution_count": 1,
      "outputs": [
        {
          "output_type": "stream",
          "text": [
            "TensorFlow 2.x selected.\n"
          ],
          "name": "stdout"
        }
      ]
    },
    {
      "cell_type": "code",
      "metadata": {
        "id": "za8v0JZ8TDSf",
        "colab_type": "code",
        "colab": {}
      },
      "source": [
        "import numpy as np\n",
        "import pandas as pd\n",
        "import matplotlib as mp\n",
        "import tensorflow as tf\n",
        "from tensorflow import keras"
      ],
      "execution_count": 0,
      "outputs": []
    },
    {
      "cell_type": "code",
      "metadata": {
        "id": "n2SOUa-3TiSm",
        "colab_type": "code",
        "colab": {}
      },
      "source": [
        "import scipy"
      ],
      "execution_count": 0,
      "outputs": []
    },
    {
      "cell_type": "code",
      "metadata": {
        "id": "3jyLrhENz9ma",
        "colab_type": "code",
        "colab": {}
      },
      "source": [
        "from sklearn.datasets import fetch_california_housing"
      ],
      "execution_count": 0,
      "outputs": []
    },
    {
      "cell_type": "code",
      "metadata": {
        "id": "3Efsj625zERS",
        "colab_type": "code",
        "outputId": "1648f42a-75eb-4864-d06f-2d29f319f24a",
        "colab": {
          "base_uri": "https://localhost:8080/",
          "height": 34
        }
      },
      "source": [
        "housing = fetch_california_housing()"
      ],
      "execution_count": 5,
      "outputs": [
        {
          "output_type": "stream",
          "text": [
            "Downloading Cal. housing from https://ndownloader.figshare.com/files/5976036 to /root/scikit_learn_data\n"
          ],
          "name": "stderr"
        }
      ]
    },
    {
      "cell_type": "code",
      "metadata": {
        "id": "GSIlK8BVzokt",
        "colab_type": "code",
        "colab": {}
      },
      "source": [
        "from sklearn.preprocessing import StandardScaler\n",
        "from sklearn.model_selection import train_test_split\n",
        "\n"
      ],
      "execution_count": 0,
      "outputs": []
    },
    {
      "cell_type": "code",
      "metadata": {
        "id": "S3QLD6g9zKDR",
        "colab_type": "code",
        "colab": {}
      },
      "source": [
        "X_train_full,X_test,y_train_full,y_test = train_test_split(housing.data,housing.target)"
      ],
      "execution_count": 0,
      "outputs": []
    },
    {
      "cell_type": "code",
      "metadata": {
        "id": "sxfHJhfQzUFh",
        "colab_type": "code",
        "colab": {}
      },
      "source": [
        "X_train,X_valid,y_train,y_valid = train_test_split(X_train_full,y_train_full)"
      ],
      "execution_count": 0,
      "outputs": []
    },
    {
      "cell_type": "code",
      "metadata": {
        "id": "Mhpe-PeJ0WMD",
        "colab_type": "code",
        "colab": {}
      },
      "source": [
        "scaler = StandardScaler()"
      ],
      "execution_count": 0,
      "outputs": []
    },
    {
      "cell_type": "code",
      "metadata": {
        "id": "Tk8nqYXN0X-_",
        "colab_type": "code",
        "colab": {}
      },
      "source": [
        "X_train_scaled = scaler.fit_transform(X_train)\n",
        "X_valid_scaled = scaler.fit_transform(X_valid)\n",
        "X_test_scaled = scaler.fit_transform(X_test)"
      ],
      "execution_count": 0,
      "outputs": []
    },
    {
      "cell_type": "markdown",
      "metadata": {
        "id": "jZzsi6Hp0z-p",
        "colab_type": "text"
      },
      "source": [
        "Activation: Output layer\n",
        ">Since this is a regression task hence there is no need for activation function as discussed in Architecture of regression.\n",
        "\n",
        "Loss:\n",
        "> MSE as doing regression task.\n",
        "\n",
        "Neuron:\n",
        "> Since there is only one number to predict hence only single neuron.\n",
        "\n",
        "Hidden Layer:\n",
        "> Since the data is noise so only use one hidden layer. More layers can result in overfitting."
      ]
    },
    {
      "cell_type": "code",
      "metadata": {
        "id": "0EFlrlCr0vLs",
        "colab_type": "code",
        "colab": {
          "base_uri": "https://localhost:8080/",
          "height": 34
        },
        "outputId": "8aea75e5-18e7-47fd-e5a5-41e4d43e636d"
      },
      "source": [
        "from keras.models import Sequential\n",
        "\n"
      ],
      "execution_count": 11,
      "outputs": [
        {
          "output_type": "stream",
          "text": [
            "Using TensorFlow backend.\n"
          ],
          "name": "stderr"
        }
      ]
    },
    {
      "cell_type": "code",
      "metadata": {
        "id": "RZ7fDll61jw7",
        "colab_type": "code",
        "colab": {}
      },
      "source": [
        "model = keras.models.Sequential([keras.layers.Dense(30,activation=\"relu\",input_shape=X_train.shape[1:]),keras.layers.Dense(1)])"
      ],
      "execution_count": 0,
      "outputs": []
    },
    {
      "cell_type": "code",
      "metadata": {
        "id": "3NDuGwOO2OJZ",
        "colab_type": "code",
        "colab": {}
      },
      "source": [
        "model.compile(loss=\"mse\", optimizer=\"sgd\")"
      ],
      "execution_count": 0,
      "outputs": []
    },
    {
      "cell_type": "code",
      "metadata": {
        "id": "-VIimAwW4P3C",
        "colab_type": "code",
        "colab": {
          "base_uri": "https://localhost:8080/",
          "height": 731
        },
        "outputId": "781a63da-6349-413e-cdda-6e71043c1e59"
      },
      "source": [
        "model.fit(X_train_scaled,y_train,epochs=20,validation_data=(X_valid,y_valid))"
      ],
      "execution_count": 14,
      "outputs": [
        {
          "output_type": "stream",
          "text": [
            "Train on 11610 samples, validate on 3870 samples\n",
            "Epoch 1/20\n",
            "11610/11610 [==============================] - 3s 257us/sample - loss: 0.7744 - val_loss: 27746.7495\n",
            "Epoch 2/20\n",
            "11610/11610 [==============================] - 1s 81us/sample - loss: 1.9574 - val_loss: 20571.4876\n",
            "Epoch 3/20\n",
            "11610/11610 [==============================] - 1s 77us/sample - loss: 0.4889 - val_loss: 3484.3901\n",
            "Epoch 4/20\n",
            "11610/11610 [==============================] - 1s 83us/sample - loss: 0.4274 - val_loss: 1305.2882\n",
            "Epoch 5/20\n",
            "11610/11610 [==============================] - 1s 77us/sample - loss: 0.4056 - val_loss: 4442.5371\n",
            "Epoch 6/20\n",
            "11610/11610 [==============================] - 1s 80us/sample - loss: 0.3926 - val_loss: 2902.0539\n",
            "Epoch 7/20\n",
            "11610/11610 [==============================] - 1s 78us/sample - loss: 0.3908 - val_loss: 2483.4170\n",
            "Epoch 8/20\n",
            "11610/11610 [==============================] - 1s 78us/sample - loss: 0.3868 - val_loss: 25195.4380\n",
            "Epoch 9/20\n",
            "11610/11610 [==============================] - 1s 79us/sample - loss: 0.3728 - val_loss: 17217.2703\n",
            "Epoch 10/20\n",
            "11610/11610 [==============================] - 1s 84us/sample - loss: 0.3671 - val_loss: 27462.9281\n",
            "Epoch 11/20\n",
            "11610/11610 [==============================] - 1s 83us/sample - loss: 0.3621 - val_loss: 6937.2059\n",
            "Epoch 12/20\n",
            "11610/11610 [==============================] - 1s 81us/sample - loss: 0.3576 - val_loss: 12440.3140\n",
            "Epoch 13/20\n",
            "11610/11610 [==============================] - 1s 76us/sample - loss: 0.3535 - val_loss: 34350.2957\n",
            "Epoch 14/20\n",
            "11610/11610 [==============================] - 1s 96us/sample - loss: 0.3739 - val_loss: 34317.4450\n",
            "Epoch 15/20\n",
            "11610/11610 [==============================] - 1s 83us/sample - loss: 0.3554 - val_loss: 27621.5252\n",
            "Epoch 16/20\n",
            "11610/11610 [==============================] - 1s 80us/sample - loss: 0.3511 - val_loss: 2696.7119\n",
            "Epoch 17/20\n",
            "11610/11610 [==============================] - 1s 77us/sample - loss: 0.3514 - val_loss: 75651.8689\n",
            "Epoch 18/20\n",
            "11610/11610 [==============================] - 1s 79us/sample - loss: 0.3483 - val_loss: 105406.8934\n",
            "Epoch 19/20\n",
            "11610/11610 [==============================] - 1s 89us/sample - loss: 0.3608 - val_loss: 12113.0001\n",
            "Epoch 20/20\n",
            "11610/11610 [==============================] - 1s 86us/sample - loss: 0.3501 - val_loss: 11635.8395\n"
          ],
          "name": "stdout"
        },
        {
          "output_type": "execute_result",
          "data": {
            "text/plain": [
              "<tensorflow.python.keras.callbacks.History at 0x7fc0c04bbb00>"
            ]
          },
          "metadata": {
            "tags": []
          },
          "execution_count": 14
        }
      ]
    },
    {
      "cell_type": "code",
      "metadata": {
        "id": "qvIpBy7_7YIT",
        "colab_type": "code",
        "colab": {
          "base_uri": "https://localhost:8080/",
          "height": 51
        },
        "outputId": "99daf7af-743c-49ce-a108-15526fa32800"
      },
      "source": [
        "model.evaluate(X_test,y_test)"
      ],
      "execution_count": 15,
      "outputs": [
        {
          "output_type": "stream",
          "text": [
            "5160/5160 [==============================] - 0s 49us/sample - loss: 12440.9410\n"
          ],
          "name": "stdout"
        },
        {
          "output_type": "execute_result",
          "data": {
            "text/plain": [
              "12440.94101411095"
            ]
          },
          "metadata": {
            "tags": []
          },
          "execution_count": 15
        }
      ]
    },
    {
      "cell_type": "code",
      "metadata": {
        "id": "81E50kyy7i0w",
        "colab_type": "code",
        "colab": {}
      },
      "source": [
        "X_new = X_test[:3] \n",
        "\n",
        "y_pred = model.predict(X_new)"
      ],
      "execution_count": 0,
      "outputs": []
    },
    {
      "cell_type": "code",
      "metadata": {
        "id": "rt5w6oTN7r2_",
        "colab_type": "code",
        "colab": {
          "base_uri": "https://localhost:8080/",
          "height": 68
        },
        "outputId": "68da6ad9-6bd0-498e-d046-d38a3e29f0d3"
      },
      "source": [
        "y_pred"
      ],
      "execution_count": 17,
      "outputs": [
        {
          "output_type": "execute_result",
          "data": {
            "text/plain": [
              "array([[ 82.93194],\n",
              "       [121.17696],\n",
              "       [ 82.95859]], dtype=float32)"
            ]
          },
          "metadata": {
            "tags": []
          },
          "execution_count": 17
        }
      ]
    },
    {
      "cell_type": "code",
      "metadata": {
        "id": "rZRz0cCm7tAo",
        "colab_type": "code",
        "colab": {}
      },
      "source": [
        "los = pd.DataFrame(model.history.history)"
      ],
      "execution_count": 0,
      "outputs": []
    },
    {
      "cell_type": "code",
      "metadata": {
        "id": "RjYXfNc5733X",
        "colab_type": "code",
        "colab": {
          "base_uri": "https://localhost:8080/",
          "height": 204
        },
        "outputId": "93829b7d-f069-46e2-82d1-3e46e9349318"
      },
      "source": [
        "los.head()"
      ],
      "execution_count": 19,
      "outputs": [
        {
          "output_type": "execute_result",
          "data": {
            "text/html": [
              "<div>\n",
              "<style scoped>\n",
              "    .dataframe tbody tr th:only-of-type {\n",
              "        vertical-align: middle;\n",
              "    }\n",
              "\n",
              "    .dataframe tbody tr th {\n",
              "        vertical-align: top;\n",
              "    }\n",
              "\n",
              "    .dataframe thead th {\n",
              "        text-align: right;\n",
              "    }\n",
              "</style>\n",
              "<table border=\"1\" class=\"dataframe\">\n",
              "  <thead>\n",
              "    <tr style=\"text-align: right;\">\n",
              "      <th></th>\n",
              "      <th>loss</th>\n",
              "      <th>val_loss</th>\n",
              "    </tr>\n",
              "  </thead>\n",
              "  <tbody>\n",
              "    <tr>\n",
              "      <th>0</th>\n",
              "      <td>0.774430</td>\n",
              "      <td>27746.749525</td>\n",
              "    </tr>\n",
              "    <tr>\n",
              "      <th>1</th>\n",
              "      <td>1.957388</td>\n",
              "      <td>20571.487604</td>\n",
              "    </tr>\n",
              "    <tr>\n",
              "      <th>2</th>\n",
              "      <td>0.488851</td>\n",
              "      <td>3484.390110</td>\n",
              "    </tr>\n",
              "    <tr>\n",
              "      <th>3</th>\n",
              "      <td>0.427379</td>\n",
              "      <td>1305.288193</td>\n",
              "    </tr>\n",
              "    <tr>\n",
              "      <th>4</th>\n",
              "      <td>0.405645</td>\n",
              "      <td>4442.537097</td>\n",
              "    </tr>\n",
              "  </tbody>\n",
              "</table>\n",
              "</div>"
            ],
            "text/plain": [
              "       loss      val_loss\n",
              "0  0.774430  27746.749525\n",
              "1  1.957388  20571.487604\n",
              "2  0.488851   3484.390110\n",
              "3  0.427379   1305.288193\n",
              "4  0.405645   4442.537097"
            ]
          },
          "metadata": {
            "tags": []
          },
          "execution_count": 19
        }
      ]
    },
    {
      "cell_type": "code",
      "metadata": {
        "id": "dsGuE25o79Q5",
        "colab_type": "code",
        "colab": {
          "base_uri": "https://localhost:8080/",
          "height": 282
        },
        "outputId": "3c83cae9-46d7-419c-ca70-a265632955a4"
      },
      "source": [
        "los.plot()"
      ],
      "execution_count": 20,
      "outputs": [
        {
          "output_type": "execute_result",
          "data": {
            "text/plain": [
              "<matplotlib.axes._subplots.AxesSubplot at 0x7fc0c0358860>"
            ]
          },
          "metadata": {
            "tags": []
          },
          "execution_count": 20
        },
        {
          "output_type": "display_data",
          "data": {
            "image/png": "[encoded data removed]",
            "text/plain": [
              "<Figure size 432x288 with 1 Axes>"
            ]
          },
          "metadata": {
            "tags": []
          }
        }
      ]
    },
    {
      "cell_type": "code",
      "metadata": {
        "id": "BIZlKml57_k1",
        "colab_type": "code",
        "colab": {}
      },
      "source": [
        ""
      ],
      "execution_count": 0,
      "outputs": []
    }
  ]
}